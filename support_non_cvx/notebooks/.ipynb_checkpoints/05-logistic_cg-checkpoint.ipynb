{
 "metadata": {
  "name": "",
  "signature": "sha256:26d64448929faa83c1bf2bb6c37ebb0ece43e69c05c66f8b9378dfffb619925d"
 },
 "nbformat": 3,
 "nbformat_minor": 0,
 "worksheets": [
  {
   "cells": [
    {
     "cell_type": "markdown",
     "metadata": {},
     "source": [
      "# Conjugate Gradient for logistic regression\n",
      "\n",
      "Author: Alexandre Gramfort"
     ]
    },
    {
     "cell_type": "code",
     "collapsed": false,
     "input": [
      "%matplotlib inline\n",
      "import math\n",
      "import numpy as np\n",
      "import matplotlib.pyplot as plt\n",
      "from scipy.optimize import fmin_cg"
     ],
     "language": "python",
     "metadata": {},
     "outputs": [],
     "prompt_number": 1
    },
    {
     "cell_type": "code",
     "collapsed": false,
     "input": [
      "fmin_cg?"
     ],
     "language": "python",
     "metadata": {},
     "outputs": [],
     "prompt_number": 2
    },
    {
     "cell_type": "code",
     "collapsed": false,
     "input": [
      "from sklearn import datasets\n",
      "from sklearn.linear_model import ridge_regression, LogisticRegression\n",
      "\n",
      "iris = datasets.load_iris()\n",
      "X = iris.data[:, :2]\n",
      "y = iris.target\n",
      "\n",
      "# Make it binary\n",
      "X = X[y < 2]\n",
      "y = y[y < 2]\n",
      "\n",
      "# add intercept column of ones\n",
      "X = np.concatenate((X, np.ones((X.shape[0], 1))), axis=1)\n",
      "\n",
      "y[y == 0] = -1"
     ],
     "language": "python",
     "metadata": {},
     "outputs": [],
     "prompt_number": 3
    },
    {
     "cell_type": "code",
     "collapsed": false,
     "input": [
      "plt.scatter(X[y > 0, 0], X[y > 0, 1], color='r')\n",
      "plt.scatter(X[y < 0, 0], X[y < 0, 1], color='g')"
     ],
     "language": "python",
     "metadata": {},
     "outputs": [
      {
       "metadata": {},
       "output_type": "pyout",
       "prompt_number": 4,
       "text": [
        "<matplotlib.collections.PathCollection at 0x10f78e8d0>"
       ]
      },
      {
       "metadata": {},
       "output_type": "display_data",
       "png": "[encoded data removed]",
       "text": [
        "<matplotlib.figure.Figure at 0x10cc87210>"
       ]
      }
     ],
     "prompt_number": 4
    },
    {
     "cell_type": "code",
     "collapsed": false,
     "input": [
      "all_pobj = []\n",
      "\n",
      "def f(w):\n",
      "    pobj = np.sum(np.log(1. + np.exp(- y * np.dot(X, w))))\n",
      "    all_pobj.append(pobj)\n",
      "    return pobj\n",
      "\n",
      "def fprime(w):\n",
      "    ywTx = y * np.dot(X, w)\n",
      "    temp = 1. / (1. + np.exp(ywTx))\n",
      "    grad = -np.dot(X.T, (y * temp))\n",
      "    return grad"
     ],
     "language": "python",
     "metadata": {},
     "outputs": [],
     "prompt_number": 5
    },
    {
     "cell_type": "code",
     "collapsed": false,
     "input": [
      "alpha = 0.01\n",
      "n_features = X.shape[1]\n",
      "w = fmin_cg(f, np.zeros(n_features), fprime)"
     ],
     "language": "python",
     "metadata": {},
     "outputs": [
      {
       "output_type": "stream",
       "stream": "stdout",
       "text": [
        "Warning: Maximum number of iterations has been exceeded.\n",
        "         Current function value: 0.001001\n",
        "         Iterations: 600\n",
        "         Function evaluations: 5545\n",
        "         Gradient evaluations: 5545\n"
       ]
      }
     ],
     "prompt_number": 6
    },
    {
     "cell_type": "code",
     "collapsed": false,
     "input": [
      "np.sign(np.dot(X, w)) - y"
     ],
     "language": "python",
     "metadata": {},
     "outputs": [
      {
       "metadata": {},
       "output_type": "pyout",
       "prompt_number": 7,
       "text": [
        "array([ 0.,  0.,  0.,  0.,  0.,  0.,  0.,  0.,  0.,  0.,  0.,  0.,  0.,\n",
        "        0.,  0.,  0.,  0.,  0.,  0.,  0.,  0.,  0.,  0.,  0.,  0.,  0.,\n",
        "        0.,  0.,  0.,  0.,  0.,  0.,  0.,  0.,  0.,  0.,  0.,  0.,  0.,\n",
        "        0.,  0.,  0.,  0.,  0.,  0.,  0.,  0.,  0.,  0.,  0.,  0.,  0.,\n",
        "        0.,  0.,  0.,  0.,  0.,  0.,  0.,  0.,  0.,  0.,  0.,  0.,  0.,\n",
        "        0.,  0.,  0.,  0.,  0.,  0.,  0.,  0.,  0.,  0.,  0.,  0.,  0.,\n",
        "        0.,  0.,  0.,  0.,  0.,  0.,  0.,  0.,  0.,  0.,  0.,  0.,  0.,\n",
        "        0.,  0.,  0.,  0.,  0.,  0.,  0.,  0.,  0.])"
       ]
      }
     ],
     "prompt_number": 7
    },
    {
     "cell_type": "code",
     "collapsed": false,
     "input": [
      "plt.plot(np.log10(all_pobj), 'r')\n",
      "plt.xlabel('Iterations')\n",
      "plt.ylabel('Primal')\n",
      "plt.show()"
     ],
     "language": "python",
     "metadata": {},
     "outputs": [
      {
       "metadata": {},
       "output_type": "display_data",
       "png": "[encoded data removed]",
       "text": [
        "<matplotlib.figure.Figure at 0x10cc7e750>"
       ]
      }
     ],
     "prompt_number": 8
    },
    {
     "cell_type": "code",
     "collapsed": false,
     "input": [
      "plt.scatter(X[y > 0, 0], X[y > 0, 1], color='r')\n",
      "plt.scatter(X[y < 0, 0], X[y < 0, 1], color='g')\n",
      "xx = np.linspace(4, 8, 10)\n",
      "plt.plot(xx,  - xx * w[0] / w[1] - w[2] / w[1], 'k')"
     ],
     "language": "python",
     "metadata": {},
     "outputs": [
      {
       "metadata": {},
       "output_type": "pyout",
       "prompt_number": 9,
       "text": [
        "[<matplotlib.lines.Line2D at 0x10fbaba90>]"
       ]
      },
      {
       "metadata": {},
       "output_type": "display_data",
       "png": "[encoded data removed]",
       "text": [
        "<matplotlib.figure.Figure at 0x10cc7e790>"
       ]
      }
     ],
     "prompt_number": 9
    },
    {
     "cell_type": "markdown",
     "metadata": {},
     "source": [
      "### Question : ajouter le support de l'intercept (attention non-r\u00e9gularis\u00e9)"
     ]
    },
    {
     "cell_type": "markdown",
     "metadata": {},
     "source": []
    }
   ],
   "metadata": {}
  }
 ]
}