{
 "cells": [
  {
   "cell_type": "markdown",
   "metadata": {},
   "source": [
    "# TP1 : First order methods on regression models\n",
    "\n",
    "#### Authors: S. Gaiffas, A. Gramfort\n",
    "\n",
    "## Aim\n",
    "\n",
    "The aim of this material is to code \n",
    "- proximal gradient descent (ISTA)\n",
    "- accelerated gradient descent (FISTA) \n",
    "\n",
    "for \n",
    "- linear regression\n",
    "- logistic regression \n",
    "\n",
    "models.\n",
    "\n",
    "The proximal operators we will use are the \n",
    "- ridge penalization\n",
    "- L1 penalization\n",
    "\n",
    "## VERY IMPORTANT\n",
    "\n",
    "- This work **must be done by pairs of students**.\n",
    "- **Each** student must send their work **before the 9th of october at 23:59**, using the **moodle platform**.\n",
    "- This means that **each student in the pair sends the same file**\n",
    "- On the moodle, in the \"Optimization for Data Science\" course, you have a \"devoir\" section called **Rendu TP du 3 octobre 2016**. This is where you submit your jupyter notebook file. \n",
    "- The **name of the file must be** constructed as in the next cell\n",
    "\n",
    "# Gentle reminder: no evaluation if you don't respect this EXACTLY\n",
    "\n",
    "### How to construct the name of your file"
   ]
  },
  {
   "cell_type": "code",
   "execution_count": 1,
   "metadata": {
    "collapsed": false
   },
   "outputs": [
    {
     "name": "stdout",
     "output_type": "stream",
     "text": [
      "tp1_martigny_peter_and_choffin_benoît.ipynb\n"
     ]
    }
   ],
   "source": [
    "# Change here using YOUR first and last names\n",
    "fn1 = \"peter\"\n",
    "ln1 = \"martigny\"\n",
    "fn2 = \"benoît\"\n",
    "ln2 = \"choffin\"\n",
    "\n",
    "filename = \"_\".join(map(lambda s: s.strip().lower(), \n",
    "                        [\"tp1\", ln1, fn1, \"and\", ln2, fn2])) + \".ipynb\"\n",
    "print(filename)"
   ]
  },
  {
   "cell_type": "code",
   "execution_count": 2,
   "metadata": {
    "collapsed": true
   },
   "outputs": [],
   "source": [
    "## to embed figures in the notebook\n",
    "%matplotlib inline"
   ]
  },
  {
   "cell_type": "markdown",
   "metadata": {},
   "source": [
    "## Part 0 : Introduction\n",
    "\n",
    "We'll start by generating sparse vectors and simulating data\n",
    "\n",
    "### Getting sparse coefficients"
   ]
  },
  {
   "cell_type": "code",
   "execution_count": 3,
   "metadata": {
    "collapsed": true
   },
   "outputs": [],
   "source": [
    "import numpy as np\n",
    "import matplotlib.pyplot as plt\n",
    "from numpy.random import randn\n",
    "\n",
    "\n",
    "#np.set_printoptions(precision=2)  # to have simpler print outputs with numpy"
   ]
  },
  {
   "cell_type": "code",
   "execution_count": 4,
   "metadata": {
    "collapsed": false,
    "scrolled": false
   },
   "outputs": [
    {
     "data": {
      "text/plain": [
       "<matplotlib.text.Text at 0x17c46209390>"
      ]
     },
     "execution_count": 4,
     "metadata": {},
     "output_type": "execute_result"
    },
    {
     "data": {
      "image/png": "[encoded data removed]",
      "text/plain": [
       "<matplotlib.figure.Figure at 0x17c45e53c18>"
      ]
     },
     "metadata": {},
     "output_type": "display_data"
    }
   ],
   "source": [
    "n_features = 50\n",
    "n_samples = 1000\n",
    "idx = np.arange(n_features)\n",
    "coefs = (-1) ** (idx - 1) * np.exp(-idx / 10.)\n",
    "coefs[20:] = 0.\n",
    "plt.stem(coefs)\n",
    "plt.title(\"Parameters / Coefficients\")"
   ]
  },
  {
   "cell_type": "markdown",
   "metadata": {},
   "source": [
    "### Functions for the simulation of the models"
   ]
  },
  {
   "cell_type": "code",
   "execution_count": 5,
   "metadata": {
    "collapsed": false
   },
   "outputs": [],
   "source": [
    "from numpy.random import multivariate_normal\n",
    "from scipy.linalg.special_matrices import toeplitz\n",
    "from numpy.random import randn\n",
    "\n",
    "\n",
    "def simu_linreg(coefs, n_samples=1000, corr=0.5):\n",
    "    \"\"\"Simulation of a linear regression model\n",
    "    \n",
    "    Parameters\n",
    "    ----------\n",
    "    coefs : `numpy.array`, shape=(n_features,)\n",
    "        Coefficients of the model\n",
    "    \n",
    "    n_samples : `int`, default=1000\n",
    "        Number of samples to simulate\n",
    "    \n",
    "    corr : `float`, default=0.5\n",
    "        Correlation of the features\n",
    "\n",
    "    Returns\n",
    "    -------\n",
    "    A : `numpy.ndarray`, shape=(n_samples, n_features)\n",
    "        Simulated features matrix. It samples of a centered Gaussian \n",
    "        vector with covariance given by the Toeplitz matrix\n",
    "    \n",
    "    b : `numpy.array`, shape=(n_samples,)\n",
    "        Simulated labels\n",
    "    \"\"\"\n",
    "    # Construction of a covariance matrix\n",
    "    cov = toeplitz(corr ** np.arange(0, n_features))\n",
    "    # Simulation of features\n",
    "    A = multivariate_normal(np.zeros(n_features), cov, size=n_samples)\n",
    "    # Simulation of the labels\n",
    "    b = A.dot(coefs) + randn(n_samples)\n",
    "    return A, b\n",
    "\n",
    "def sigmoid(t):\n",
    "    \"\"\"Sigmoid function (overflow-proof)\"\"\"\n",
    "    idx = t > 0\n",
    "    out = np.empty(t.size)\n",
    "    out[idx] = 1. / (1 + np.exp(-t[idx]))\n",
    "    exp_t = np.exp(t[~idx])\n",
    "    out[~idx] = exp_t / (1. + exp_t)\n",
    "    return out\n",
    "\n",
    "def simu_logreg(coefs, n_samples=1000, corr=0.5):\n",
    "    \"\"\"Simulation of a logistic regression model\n",
    "    \n",
    "    Parameters\n",
    "    ----------\n",
    "    coefs : `numpy.array`, shape=(n_features,)\n",
    "        Coefficients of the model\n",
    "    \n",
    "    n_samples : `int`, default=1000\n",
    "        Number of samples to simulate\n",
    "    \n",
    "    corr : `float`, default=0.5\n",
    "        Correlation of the features\n",
    "\n",
    "    Returns\n",
    "    -------\n",
    "    A : `numpy.ndarray`, shape=(n_samples, n_features)\n",
    "        Simulated features matrix. It samples of a centered Gaussian \n",
    "        vector with covariance given by the Toeplitz matrix\n",
    "    \n",
    "    b : `numpy.array`, shape=(n_samples,)\n",
    "        Simulated labels\n",
    "    \"\"\"\n",
    "    cov = toeplitz(corr ** np.arange(0, n_features))\n",
    "    A = multivariate_normal(np.zeros(n_features), cov, size=n_samples)\n",
    "    p = sigmoid(A.dot(coefs))\n",
    "    b = np.random.binomial(1, p, size=n_samples)\n",
    "    b[:] = 2 * b - 1\n",
    "    return A, b"
   ]
  },
  {
   "cell_type": "code",
   "execution_count": 6,
   "metadata": {
    "collapsed": false
   },
   "outputs": [
    {
     "data": {
      "text/plain": [
       "array([ 0.73105858,  0.88079708,  0.9999546 ,  0.33333333])"
      ]
     },
     "execution_count": 6,
     "metadata": {},
     "output_type": "execute_result"
    }
   ],
   "source": [
    "sigmoid(np.array([1, 2, 10, -np.log(2)]))"
   ]
  },
  {
   "cell_type": "markdown",
   "metadata": {},
   "source": [
    "## Part 1 : Proximal operators"
   ]
  },
  {
   "cell_type": "markdown",
   "metadata": {},
   "source": [
    "We remind that the proximal operator of a fonction $g$ is given by:\n",
    "\n",
    "$$\n",
    "\\text{prox}_g(y, t) = \\arg\\min_x \\Big\\{ \\frac 12 \\|x - y\\|_2^2 + t g(x) \\Big\\}.\n",
    "$$\n",
    "\n",
    "where $t \\geq 0$ is a non-negative number.\n",
    "We have in mind to use the following cases\n",
    "\n",
    "- Ridge penalization, where $g(x) = \\frac{s}{2} \\|x\\|_2^2$\n",
    "- Lasso penalization, where $g(x) = s \\|x\\|_1$\n",
    "\n",
    "where $s \\geq 0$ is a regularization parameter."
   ]
  },
  {
   "cell_type": "markdown",
   "metadata": {},
   "source": [
    "## Questions\n",
    "\n",
    "- Code a function that computes $g(x)$ in both cases and $\\text{prox}_g(x)$ for ridge and  lasso penalization (use the slides of the first course to get the formulas), using the prototypes given below\n",
    "- Visualize the functions applied element wise by the proximity operators of the Ridge and Lasso "
   ]
  },
  {
   "cell_type": "code",
   "execution_count": 7,
   "metadata": {
    "collapsed": true
   },
   "outputs": [],
   "source": [
    "def prox_lasso(x, s, t=1.):\n",
    "    \"\"\"Proximal operator for the Lasso at x with strength t\"\"\"   \n",
    "    aux = np.abs(x)\n",
    "    result = np.sign(x) * np.maximum((aux - s*t), 0)\n",
    "    return result # TODO\n",
    "    \n",
    "def lasso(x, s):\n",
    "    \"\"\"Value of the Lasso penalization at x with strength t\"\"\"\n",
    "    aux = np.abs(x)\n",
    "    result = s * np.sum(aux)\n",
    "    return result # TODO\n",
    "\n",
    "def prox_ridge(x, s, t=1.):\n",
    "    \"\"\"Proximal operator for the ridge at x with strength t\"\"\"    \n",
    "    result = (1/(1 + s*t)) * x\n",
    "    return result # TODO\n",
    "    \n",
    "def ridge(x, s):\n",
    "    \"\"\"Value of the ridge penalization at x with strength t\"\"\"\n",
    "    result = (s/2) * np.sum(x ** 2)\n",
    "    return result # TODO"
   ]
  },
  {
   "cell_type": "markdown",
   "metadata": {},
   "source": [
    "Test functions"
   ]
  },
  {
   "cell_type": "code",
   "execution_count": 8,
   "metadata": {
    "collapsed": false
   },
   "outputs": [
    {
     "data": {
      "text/plain": [
       "<matplotlib.collections.PathCollection at 0x17c4693bf60>"
      ]
     },
     "execution_count": 8,
     "metadata": {},
     "output_type": "execute_result"
    },
    {
     "data": {
      "image/png": "[encoded data removed]",
      "text/plain": [
       "<matplotlib.figure.Figure at 0x17c4632f470>"
      ]
     },
     "metadata": {},
     "output_type": "display_data"
    }
   ],
   "source": [
    "x = randn(1000)\n",
    "x_bar = prox_lasso(x, 0.5, 2)\n",
    "plt.scatter(x = x, y = x_bar)"
   ]
  },
  {
   "cell_type": "markdown",
   "metadata": {},
   "source": [
    "## Visualization\n",
    "\n",
    "We are now going to visualize the effect of the proximity operators on coefficients."
   ]
  },
  {
   "cell_type": "code",
   "execution_count": 9,
   "metadata": {
    "collapsed": false,
    "scrolled": false
   },
   "outputs": [
    {
     "name": "stdout",
     "output_type": "stream",
     "text": [
      "[ 0.         -0.          0.         -0.          0.         -0.\n",
      " -0.18631179  0.         -0.         -0.          0.          0.38077839\n",
      " -0.27985431  0.          0.          0.23775944  0.14161446 -1.54180662\n",
      "  0.04832528  0.          0.         -0.22635343  0.61496982  0.         -0.\n",
      "  0.          0.76902112 -0.          0.         -0.21422163 -0.54973699\n",
      " -0.63104904  0.38131725  0.47244433  0.          1.4813026   0.          0.\n",
      "  0.          0.31619775  0.         -0.          1.19456802 -0.         -0.\n",
      "  0.         -0.          0.13936133  0.         -0.66693857]\n"
     ]
    },
    {
     "data": {
      "image/png": "[encoded data removed]",
      "text/plain": [
       "<matplotlib.figure.Figure at 0x17c4687f940>"
      ]
     },
     "metadata": {},
     "output_type": "display_data"
    }
   ],
   "source": [
    "x = randn(50)\n",
    "l_l1 = 1.\n",
    "l_l2 = 5\n",
    "\n",
    "plt.figure(figsize=(15.0, 4.0))\n",
    "plt.subplot(1, 3, 1)\n",
    "plt.stem(x)\n",
    "plt.title(\"Original parameter\", fontsize=16)\n",
    "plt.ylim([-2, 2])\n",
    "plt.subplot(1, 3, 2)\n",
    "plt.stem(prox_lasso(x, s=l_l1))\n",
    "plt.title(\"Proximal Lasso\", fontsize=16)\n",
    "plt.ylim([-2, 2])\n",
    "plt.subplot(1, 3, 3)\n",
    "plt.stem(prox_ridge(x, s=l_l2))\n",
    "plt.title(\"Proximal Ridge\", fontsize=16)\n",
    "plt.ylim([-2, 2])\n",
    "print(prox_lasso(x, s = l_l1))"
   ]
  },
  {
   "cell_type": "markdown",
   "metadata": {},
   "source": [
    "## Question\n",
    "\n",
    "- Comment what you observe (1 or 2 sentences)."
   ]
  },
  {
   "cell_type": "markdown",
   "metadata": {},
   "source": [
    "We observe that a relatively small lasso parameter has a significant effect on the sparsity of the coefficients, whereas it requires a bigger ridge parameter to have a similar effect. Additionnaly, the lasso shrinks certain coefficients exactly to 0, whereas the ridge only lowers the general magnitude of the coefficients, but they are not null."
   ]
  },
  {
   "cell_type": "markdown",
   "metadata": {},
   "source": [
    "## Part 2: Gradients\n",
    "\n",
    "The problems we want to minimize take the form:\n",
    "$$\n",
    "\\arg\\min_x f(x) + g(x)\n",
    "$$\n",
    "where $f$ is $L$-smooth and $g$ is prox-capable.\n",
    "\n",
    "We will consider below the following cases\n",
    "\n",
    "**Linear regression**, where \n",
    "$$\n",
    "f(x) = \\frac{1}{2n} \\sum_{i=1}^n (b_i - a_i^\\top x)^2 = \\frac{1}{2 n} \\| b - A x \\|_2^2,\n",
    "$$\n",
    "where $n$ is the sample size, $b = [b_1 \\cdots b_n]$ is the vector of labels and $A$ is the matrix of features.\n",
    "\n",
    "**Logistic regression**, where\n",
    "$$\n",
    "f(x) = \\frac{1}{n} \\sum_{i=1}^n \\log(1 + \\exp(-b_i a_i^\\top x)),\n",
    "$$\n",
    "where $n$ is the sample size, and where labels $b_i \\in \\{ -1, 1 \\}$ for all $i$.\n",
    "\n",
    "We need to be able to compute $f$ and its gradient"
   ]
  },
  {
   "cell_type": "markdown",
   "metadata": {},
   "source": [
    "**Questions**:\n",
    "- Compute on paper the gradient $\\nabla f$ of $f$ for both cases (linear and logistic regression)\n",
    "- Code a function that computes $f$ and its gradient $\\nabla f$ in both cases, using the prototypes below.\n",
    "- Check that these functions are correct by numerically checking the gradient, using the function ``checkgrad`` from ``scipy.optimize``. Remark: use the functions `simu_linreg` and `simu_logreg` to simulate data according to the right model"
   ]
  },
  {
   "cell_type": "code",
   "execution_count": 10,
   "metadata": {
    "collapsed": true
   },
   "outputs": [],
   "source": [
    "def loss_linreg(x):\n",
    "    \"\"\"Least-squares loss\"\"\"\n",
    "    n = n_samples\n",
    "    result = (1/(2*n)) * (((b - np.dot(A, x)) ** 2).sum())\n",
    "    # TODO\n",
    "    return result\n",
    "\n",
    "def grad_linreg(x):\n",
    "    \"\"\"Leas-squares gradient\"\"\"\n",
    "    n = n_samples\n",
    "    result = (1/n)*np.dot(np.transpose(A), (np.dot(A, x) - b))\n",
    "    # TODO\n",
    "    return result\n",
    "\n",
    "def loss_logreg(x):\n",
    "    \"\"\"Logistic loss\"\"\"\n",
    "    n = n_samples\n",
    "    result = (1/(2*n))*sum(np.log(1 + np.exp(-b[i]*np.dot(np.transpose(A[i, :]), x))) for i in range(n))\n",
    "    # TODO\n",
    "    return result\n",
    "\n",
    "def grad_logreg(x):\n",
    "    \"\"\"Logistic gradient\"\"\"\n",
    "    n = n_samples\n",
    "    result = (1/(2*n))*sum((-b[i]*np.transpose(A[i, :])*np.exp(-b[i]*np.dot(np.transpose(A[i, :]), x)))/(1 + np.exp(-b[i]*np.dot(np.transpose(A[i, :]), x))) for i in range(n))\n",
    "    # TODO\n",
    "    return result\n",
    "\n",
    "# TO BE COMPLETED"
   ]
  },
  {
   "cell_type": "code",
   "execution_count": 11,
   "metadata": {
    "collapsed": true
   },
   "outputs": [],
   "source": [
    "from scipy.optimize import check_grad"
   ]
  },
  {
   "cell_type": "code",
   "execution_count": 12,
   "metadata": {
    "collapsed": false
   },
   "outputs": [
    {
     "name": "stdout",
     "output_type": "stream",
     "text": [
      "Check the linreg gradient:  2.25856130973e-08\n",
      "Check the linlog gradient:  1.54604403463e-07\n"
     ]
    }
   ],
   "source": [
    "A, b = simu_linreg(coefs, n_samples=1000, corr=0.5)\n",
    "x = coefs\n",
    "print('Check the linreg gradient: ', check_grad(loss_linreg, grad_linreg, x))\n",
    "\n",
    "A, b = simu_logreg(coefs, n_samples=1000, corr=0.5)\n",
    "x = coefs\n",
    "print('Check the linlog gradient: ', check_grad(loss_logreg, grad_logreg, x))"
   ]
  },
  {
   "cell_type": "markdown",
   "metadata": {},
   "source": [
    "## Part 3: Solvers"
   ]
  },
  {
   "cell_type": "markdown",
   "metadata": {},
   "source": [
    "We know have a function to compute $f$, $\\nabla f$ and $g$ and $\\text{prox}_g$. \n",
    "\n",
    "We want now to code the Ista and Fista solvers to minimize\n",
    "\n",
    "$$\n",
    "\\arg\\min_x f(x) + g(x)\n",
    "$$\n",
    "\n",
    "**Questions**:\n",
    "\n",
    "- Implement functions that compute the Lipschitz constants for linear and \n",
    "  logistic regression losses. Note that the operator norm of a matrix can \n",
    "  be computed using the function `numpy.linalg.norm` (read the documentation\n",
    "  of the function)\n",
    "\n",
    "- Finish the functions `ista` and `fista` below that implements the \n",
    "  ISTA (Proximal Gradient Descent) and FISTA (Accelerated Proximal \n",
    "  Gradient Descent) algorithms"
   ]
  },
  {
   "cell_type": "code",
   "execution_count": 13,
   "metadata": {
    "collapsed": true
   },
   "outputs": [],
   "source": [
    "from numpy.linalg import norm"
   ]
  },
  {
   "cell_type": "code",
   "execution_count": 16,
   "metadata": {
    "collapsed": false
   },
   "outputs": [],
   "source": [
    "def lip_linreg(A):\n",
    "    \"\"\"Lipschitz constant for linear squares loss\"\"\"  \n",
    "    n = A[:, 1].size\n",
    "    result = (1/n) * norm(np.dot(np.transpose(A), A), 2)\n",
    "    # TODO\n",
    "    return result\n",
    "    \n",
    "def lip_logreg(A):\n",
    "    \"\"\"Lipschitz constant for logistic loss\"\"\"    \n",
    "    n = A[:, 1].size\n",
    "    result = (1/(4*n)) * norm(np.dot(np.transpose(A), A), 2)\n",
    "    # TODO\n",
    "    return result\n",
    "    \n",
    "def ista(x0, f, grad_f, g, prox_g, step, s=0., n_iter=50,\n",
    "         x_true=coefs, verbose=True):\n",
    "    \"\"\"Proximal gradient descent algorithm\n",
    "    \"\"\"\n",
    "    x = x0.copy()\n",
    "    x_new = x0.copy()\n",
    "    n_samples, n_features = A.shape\n",
    "\n",
    "    # estimation error history\n",
    "    errors = []\n",
    "    # objective history\n",
    "    objectives = []\n",
    "    # Current estimation error\n",
    "    err = norm(x - x_true) / norm(x_true)\n",
    "    errors.append(err)\n",
    "    # Current objective\n",
    "    obj = f(x) + g(x, s)\n",
    "    objectives.append(obj)\n",
    "    if verbose:\n",
    "        print(\"Lauching ISTA solver...\")\n",
    "        print(' | '.join([name.center(8) for name in [\"it\", \"obj\", \"err\"]]))\n",
    "    for k in range(n_iter + 1):\n",
    "\n",
    "        #### TODO ####\n",
    "        \n",
    "        x = x - step*grad_f(x) #prox_g(x - step*grad_f(x), s, step)\n",
    "        obj = f(x) + g(x, s)\n",
    "        err = norm(x - x_true) / norm(x_true)\n",
    "        errors.append(err)\n",
    "        objectives.append(obj)\n",
    "        if k % 10 == 0 and verbose:\n",
    "            print(' | '.join([(\"%d\" % k).rjust(8), \n",
    "                              (\"%.2e\" % obj).rjust(8), \n",
    "                              (\"%.2e\" % err).rjust(8)]))\n",
    "    return x, objectives, errors"
   ]
  },
  {
   "cell_type": "markdown",
   "metadata": {},
   "source": [
    "Test the ISTA Algorithm"
   ]
  },
  {
   "cell_type": "code",
   "execution_count": 17,
   "metadata": {
    "collapsed": false
   },
   "outputs": [
    {
     "name": "stdout",
     "output_type": "stream",
     "text": [
      "Lauching ISTA solver...\n",
      "   it    |   obj    |   err   \n",
      "       0 | 7.59e+00 | 2.16e+00\n",
      "      10 | 7.78e-01 | 5.26e-01\n",
      "      20 | 5.08e-01 | 1.80e-01\n",
      "      30 | 4.84e-01 | 1.15e-01\n",
      "      40 | 4.82e-01 | 1.10e-01\n",
      "      50 | 4.81e-01 | 1.11e-01\n",
      "The last error measure is:  0.11111439021\n"
     ]
    },
    {
     "data": {
      "image/png": "[encoded data removed]",
      "text/plain": [
       "<matplotlib.figure.Figure at 0x17c48db3470>"
      ]
     },
     "metadata": {},
     "output_type": "display_data"
    }
   ],
   "source": [
    "A, b = simu_linreg(coefs, n_samples=1000, corr=0.5)\n",
    "L = lip_linreg(A)\n",
    "\n",
    "x = randn(50)\n",
    "Z = ista(x, loss_linreg, grad_linreg, ridge, prox_ridge, 1/L, s=0, n_iter =50)\n",
    "plt.stem(Z[2])\n",
    "print('The last error measure is: ', Z[2][50])"
   ]
  },
  {
   "cell_type": "markdown",
   "metadata": {},
   "source": [
    "We observe that the error doesn't converge exactly to zero"
   ]
  },
  {
   "cell_type": "code",
   "execution_count": 132,
   "metadata": {
    "collapsed": false
   },
   "outputs": [
    {
     "name": "stdout",
     "output_type": "stream",
     "text": [
      "Lauching ISTA solver...\n",
      "   it    |   obj    |   err   \n",
      "       0 | 2.22e+01 | 2.78e+00\n",
      "      10 | 1.89e+01 | 2.53e+00\n",
      "      20 | 1.62e+01 | 2.30e+00\n",
      "      30 | 1.40e+01 | 2.10e+00\n",
      "      40 | 1.22e+01 | 1.91e+00\n",
      "      50 | 1.07e+01 | 1.74e+00\n",
      "      60 | 9.45e+00 | 1.58e+00\n",
      "      70 | 8.46e+00 | 1.44e+00\n",
      "      80 | 7.65e+00 | 1.31e+00\n",
      "      90 | 6.99e+00 | 1.20e+00\n",
      "     100 | 6.46e+00 | 1.10e+00\n",
      "     110 | 6.02e+00 | 1.00e+00\n",
      "     120 | 5.66e+00 | 9.22e-01\n",
      "     130 | 5.36e+00 | 8.49e-01\n",
      "     140 | 5.11e+00 | 7.84e-01\n",
      "     150 | 4.91e+00 | 7.26e-01\n",
      "     160 | 4.74e+00 | 6.74e-01\n",
      "     170 | 4.60e+00 | 6.29e-01\n",
      "     180 | 4.48e+00 | 5.88e-01\n",
      "     190 | 4.37e+00 | 5.52e-01\n",
      "     200 | 4.29e+00 | 5.20e-01\n",
      "     210 | 4.21e+00 | 4.92e-01\n",
      "     220 | 4.15e+00 | 4.67e-01\n",
      "     230 | 4.10e+00 | 4.46e-01\n",
      "     240 | 4.05e+00 | 4.27e-01\n",
      "     250 | 4.01e+00 | 4.10e-01\n",
      "     260 | 3.98e+00 | 3.96e-01\n",
      "     270 | 3.94e+00 | 3.83e-01\n",
      "     280 | 3.92e+00 | 3.73e-01\n",
      "     290 | 3.89e+00 | 3.63e-01\n",
      "     300 | 3.87e+00 | 3.55e-01\n",
      "     310 | 3.85e+00 | 3.48e-01\n",
      "     320 | 3.83e+00 | 3.42e-01\n",
      "     330 | 3.82e+00 | 3.36e-01\n",
      "     340 | 3.80e+00 | 3.32e-01\n",
      "     350 | 3.79e+00 | 3.28e-01\n",
      "     360 | 3.78e+00 | 3.24e-01\n",
      "     370 | 3.76e+00 | 3.21e-01\n",
      "     380 | 3.75e+00 | 3.19e-01\n",
      "     390 | 3.74e+00 | 3.17e-01\n",
      "     400 | 3.74e+00 | 3.15e-01\n",
      "The last error measure is:  0.314823328721\n"
     ]
    },
    {
     "data": {
      "image/png": "[encoded data removed]",
      "text/plain": [
       "<matplotlib.figure.Figure at 0x25581832d68>"
      ]
     },
     "metadata": {},
     "output_type": "display_data"
    }
   ],
   "source": [
    "A, b = simu_logreg(coefs, n_samples=1000, corr=0.5)\n",
    "L = lip_linreg(A)\n",
    "\n",
    "x = randn(50)\n",
    "Z = ista(x, loss_logreg, grad_logreg, ridge, prox_ridge, 1/L, s=1, n_iter =400)\n",
    "plt.stem(Z[2])\n",
    "print('The last error measure is: ', Z[2][400])"
   ]
  },
  {
   "cell_type": "markdown",
   "metadata": {},
   "source": [
    "For logistic regression, we observe that the convergence is not as fast as with linear regression"
   ]
  },
  {
   "cell_type": "code",
   "execution_count": 149,
   "metadata": {
    "collapsed": false
   },
   "outputs": [],
   "source": [
    "def fista(x0, f, grad_f, g, prox_g, step, s=0., n_iter=50,\n",
    "         x_true=coefs, verbose=True):\n",
    "    \"\"\"Accelerated Proximal gradient descent algorithm\n",
    "    \"\"\"\n",
    "    x = x0.copy()\n",
    "    x_new = x0.copy()\n",
    "    # An extra variable is required for FISTA\n",
    "    z = x0.copy()   \n",
    "    \n",
    "    n_samples, n_features = A.shape\n",
    "    # estimation error history\n",
    "    errors = []\n",
    "    # objective history\n",
    "    objectives = []\n",
    "    # Current estimation error\n",
    "    err = norm(x - x_true) / norm(x_true)\n",
    "    errors.append(err)\n",
    "    # Current objective\n",
    "    obj = f(x) + g(x, s)\n",
    "    objectives.append(obj)\n",
    "    \n",
    "    t = 1.\n",
    "    t_new = 1.\n",
    "    \n",
    "#     if verbose:\n",
    "#         print(\"Lauching FISTA solver...\")\n",
    "#         print(' | '.join([name.center(8) for name in [\"it\", \"obj\", \"err\"]]))\n",
    "    for k in range(n_iter + 1):\n",
    "\n",
    "        #### TODO ####\n",
    "        \n",
    "        x_new = prox_g(z - step*grad_f(z), s, step)\n",
    "        t_new = (1/2)*(1 + np.sqrt(1 + 4*(t**2)))\n",
    "        z_new = x_new + ((t-1)/t_new)*(x_new - x)\n",
    "        \n",
    "        x = x_new\n",
    "        t = t_new\n",
    "        z = z_new\n",
    "        \n",
    "        obj = f(x) + g(x, s)\n",
    "        err = norm(x - x_true) / norm(x_true)\n",
    "        errors.append(err)\n",
    "        objectives.append(obj)\n",
    "#         if k % 10 == 0 and verbose:\n",
    "#             print(' | '.join([(\"%d\" % k).rjust(8), \n",
    "#                               (\"%.2e\" % obj).rjust(8), \n",
    "#                               (\"%.2e\" % err).rjust(8)]))\n",
    "    return x, objectives, errors"
   ]
  },
  {
   "cell_type": "code",
   "execution_count": 157,
   "metadata": {
    "collapsed": false
   },
   "outputs": [
    {
     "name": "stdout",
     "output_type": "stream",
     "text": [
      "Lauching ISTA solver...\n",
      "   it    |   obj    |   err   \n",
      "       0 | 1.20e+01 | 2.90e+00\n",
      "      10 | 1.06e+00 | 8.39e-01\n",
      "      20 | 5.27e-01 | 3.19e-01\n",
      "      30 | 4.67e-01 | 1.55e-01\n",
      "      40 | 4.59e-01 | 1.09e-01\n",
      "      50 | 4.58e-01 | 9.82e-02\n"
     ]
    },
    {
     "data": {
      "image/png": "[encoded data removed]",
      "text/plain": [
       "<matplotlib.figure.Figure at 0x255fecf5940>"
      ]
     },
     "metadata": {},
     "output_type": "display_data"
    },
    {
     "data": {
      "image/png": "[encoded data removed]",
      "text/plain": [
       "<matplotlib.figure.Figure at 0x255816b7f98>"
      ]
     },
     "metadata": {},
     "output_type": "display_data"
    },
    {
     "name": "stdout",
     "output_type": "stream",
     "text": [
      "The last ista error measure is:  0.0987335139323\n",
      "The last fista error measure is:  0.094755720271\n"
     ]
    }
   ],
   "source": [
    "A, b = simu_linreg(coefs, n_samples=1000, corr=0.5)\n",
    "L = lip_linreg(A)\n",
    "\n",
    "x = randn(50)\n",
    "Z = ista(x, loss_linreg, grad_linreg, ridge, prox_ridge, 1/L, s=0, n_iter =50)\n",
    "Y = fista(x, loss_linreg, grad_linreg, ridge, prox_ridge, 1/L, s=0, n_iter =50)\n",
    "\n",
    "plt.stem(Z[2])\n",
    "plt.show()\n",
    "plt.stem(Y[2])\n",
    "plt.show()\n",
    "print('The last ista error measure is: ', Z[2][50])\n",
    "print('The last fista error measure is: ', Y[2][50])"
   ]
  },
  {
   "cell_type": "code",
   "execution_count": 160,
   "metadata": {
    "collapsed": false
   },
   "outputs": [
    {
     "name": "stdout",
     "output_type": "stream",
     "text": [
      "Lauching ISTA solver...\n",
      "   it    |   obj    |   err   \n",
      "       0 | 1.70e+00 | 3.26e+00\n",
      "      10 | 8.24e-01 | 2.16e+00\n",
      "      20 | 4.61e-01 | 1.44e+00\n",
      "      30 | 3.39e-01 | 9.79e-01\n",
      "      40 | 2.91e-01 | 6.88e-01\n",
      "      50 | 2.72e-01 | 5.12e-01\n"
     ]
    },
    {
     "data": {
      "image/png": "[encoded data removed]",
      "text/plain": [
       "<matplotlib.figure.Figure at 0x25581613048>"
      ]
     },
     "metadata": {},
     "output_type": "display_data"
    },
    {
     "data": {
      "image/png": "[encoded data removed]",
      "text/plain": [
       "<matplotlib.figure.Figure at 0x25582ab2da0>"
      ]
     },
     "metadata": {},
     "output_type": "display_data"
    },
    {
     "name": "stdout",
     "output_type": "stream",
     "text": [
      "The last ista error measure is:  0.525729037681\n",
      "The last fista error measure is:  0.263694259109\n"
     ]
    }
   ],
   "source": [
    "A, b = simu_logreg(coefs, n_samples=1000, corr=0.5)\n",
    "L = lip_logreg(A)\n",
    "\n",
    "x = randn(50)\n",
    "Z = ista(x, loss_logreg, grad_logreg, ridge, prox_ridge, 1/L, s=0, n_iter =50)\n",
    "Y = fista(x, loss_logreg, grad_logreg, ridge, prox_ridge, 1/L, s=0, n_iter =50)\n",
    "\n",
    "plt.stem(Z[2])\n",
    "plt.show()\n",
    "plt.stem(Y[2])\n",
    "plt.show()\n",
    "print('The last ista error measure is: ', Z[2][50])\n",
    "print('The last fista error measure is: ', Y[2][50])"
   ]
  },
  {
   "cell_type": "markdown",
   "metadata": {},
   "source": [
    "## Algorithms comparison and numerical experiments"
   ]
  },
  {
   "cell_type": "code",
   "execution_count": 187,
   "metadata": {
    "collapsed": true
   },
   "outputs": [],
   "source": [
    "# Some definitions before launching the algorithms\n",
    "x0 = np.zeros(n_features)\n",
    "n_iter = 40\n",
    "s = 1e-2"
   ]
  },
  {
   "cell_type": "markdown",
   "metadata": {},
   "source": [
    "**Questions**\n",
    "\n",
    "- Compute a precise minimum and a precise minimizer of the linear regression with ridge \n",
    "  penalization problem using the parameters give above. This can be done by using fista with \n",
    "  1000 iterations.\n",
    "- Compare the convergences of ISTA and FISTA, in terms of distance to the minimum and \n",
    "  distance to the minimizer. Do your plots using a logarithmic scale of the y-axis."
   ]
  },
  {
   "cell_type": "markdown",
   "metadata": {},
   "source": [
    "Compute minimum and minimizer"
   ]
  },
  {
   "cell_type": "code",
   "execution_count": null,
   "metadata": {
    "collapsed": true
   },
   "outputs": [],
   "source": []
  },
  {
   "cell_type": "markdown",
   "metadata": {},
   "source": [
    "**Questions**\n",
    "\n",
    "- In linear regression and logistic regression, study the influence of the correlation \n",
    "  of the features on the performance of the optimization algorithms. Explain.\n",
    "\n",
    "- In linear regression and logistic regression, study the influence of the level of ridge \n",
    "  penalization on the performance of the optimization algorithms. Explain.\n",
    "\n",
    "- In linear regression and logistic regression, compare the performance of the optimization\n",
    "  algorithms for ridge and lasso penalizations. Explain"
   ]
  }
 ],
 "metadata": {
  "anaconda-cloud": {},
  "kernelspec": {
   "display_name": "Python [Root]",
   "language": "python",
   "name": "Python [Root]"
  },
  "language_info": {
   "codemirror_mode": {
    "name": "ipython",
    "version": 3
   },
   "file_extension": ".py",
   "mimetype": "text/x-python",
   "name": "python",
   "nbconvert_exporter": "python",
   "pygments_lexer": "ipython3",
   "version": "3.5.2"
  }
 },
 "nbformat": 4,
 "nbformat_minor": 0
}
