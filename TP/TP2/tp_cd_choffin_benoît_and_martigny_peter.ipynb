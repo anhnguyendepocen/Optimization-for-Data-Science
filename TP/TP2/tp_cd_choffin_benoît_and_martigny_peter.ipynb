{
 "cells": [
  {
   "cell_type": "markdown",
   "metadata": {},
   "source": [
    "# TP : Proximal coordinate descent method on regression models\n",
    "\n",
    "#### Authors: S. Gaiffas, A. Gramfort\n",
    "\n",
    "## Aim\n",
    "\n",
    "The aim of this material is to code \n",
    "- proximal coordinate descent\n",
    "\n",
    "for \n",
    "- Lasso / L1 linear regression\n",
    "- non-negative least squares (NNLS)\n",
    "\n",
    "models.\n",
    "\n",
    "The proximal operators we will use are the \n",
    "- L1 penalization\n",
    "- indicator function of $\\mathbb{R}_+$\n",
    "\n",
    "## VERY IMPORTANT\n",
    "\n",
    "- This work **must be done by pairs of students**.\n",
    "- **Each** student must send their work **before the 23th of october at 23:59**, using the **moodle platform**.\n",
    "- This means that **each student in the pair sends the same file**\n",
    "- On the moodle, in the \"Optimization for Data Science\" course, you have a \"devoir\" section called **Rendu TP du 17 octobre 2016**. This is where you submit your jupyter notebook file. \n",
    "- The **name of the file must be** constructed as in the next cell\n",
    "\n",
    "# Gentle reminder: no evaluation if you don't respect this EXACTLY\n",
    "\n",
    "### How to construct the name of your file"
   ]
  },
  {
   "cell_type": "code",
   "execution_count": 1,
   "metadata": {
    "collapsed": false
   },
   "outputs": [
    {
     "name": "stdout",
     "output_type": "stream",
     "text": [
      "tp_cd_choffin_benoît_and_martigny_peter.ipynb\n"
     ]
    }
   ],
   "source": [
    "# Change here using YOUR first and last names\n",
    "fn1 = \"benoît\"\n",
    "ln1 = \"choffin\"\n",
    "fn2 = \"peter\"\n",
    "ln2 = \"martigny\"\n",
    "\n",
    "filename = \"_\".join(map(lambda s: s.strip().lower(), \n",
    "                        [\"tp_cd\", ln1, fn1, \"and\", ln2, fn2])) + \".ipynb\"\n",
    "print(filename)"
   ]
  },
  {
   "cell_type": "code",
   "execution_count": 2,
   "metadata": {
    "collapsed": false
   },
   "outputs": [],
   "source": [
    "## to embed figures in the notebook\n",
    "%matplotlib inline"
   ]
  },
  {
   "cell_type": "markdown",
   "metadata": {},
   "source": [
    "## Part 0 : Introduction\n",
    "\n",
    "We'll start by generating sparse positive vectors and simulating data\n",
    "\n",
    "### Getting sparse coefficients"
   ]
  },
  {
   "cell_type": "code",
   "execution_count": 21,
   "metadata": {
    "collapsed": true
   },
   "outputs": [],
   "source": [
    "import numpy as np\n",
    "import matplotlib.pyplot as plt\n",
    "\n",
    "np.set_printoptions(precision=2)  # to have simpler print outputs with numpy"
   ]
  },
  {
   "cell_type": "code",
   "execution_count": 4,
   "metadata": {
    "collapsed": false,
    "scrolled": false
   },
   "outputs": [
    {
     "data": {
      "text/plain": [
       "<matplotlib.text.Text at 0x1d0ef48a0b8>"
      ]
     },
     "execution_count": 4,
     "metadata": {},
     "output_type": "execute_result"
    },
    {
     "data": {
      "image/png": "[encoded data removed]",
      "text/plain": [
       "<matplotlib.figure.Figure at 0x1d0ef4587b8>"
      ]
     },
     "metadata": {},
     "output_type": "display_data"
    }
   ],
   "source": [
    "n_features = 50\n",
    "n_samples = 1000\n",
    "idx = np.arange(n_features)\n",
    "coefs = (idx % 2) * np.exp(-idx / 10.)\n",
    "coefs[20:] = 0.\n",
    "plt.stem(coefs)\n",
    "plt.title(\"Parameters / Coefficients\")"
   ]
  },
  {
   "cell_type": "markdown",
   "metadata": {},
   "source": [
    "### Functions for the simulation of the models"
   ]
  },
  {
   "cell_type": "code",
   "execution_count": 5,
   "metadata": {
    "collapsed": false
   },
   "outputs": [],
   "source": [
    "from numpy.random import multivariate_normal\n",
    "from scipy.linalg.special_matrices import toeplitz\n",
    "from numpy.random import randn\n",
    "\n",
    "\n",
    "def simu_linreg(coefs, n_samples=1000, corr=0.5):\n",
    "    \"\"\"Simulation of a linear regression model\n",
    "    \n",
    "    Parameters\n",
    "    ----------\n",
    "    coefs : `numpy.array`, shape=(n_features,)\n",
    "        Coefficients of the model\n",
    "    \n",
    "    n_samples : `int`, default=1000\n",
    "        Number of samples to simulate\n",
    "    \n",
    "    corr : `float`, default=0.5\n",
    "        Correlation of the features\n",
    "\n",
    "    Returns\n",
    "    -------\n",
    "    A : `numpy.ndarray`, shape=(n_samples, n_features)\n",
    "        Simulated features matrix. It samples of a centered Gaussian \n",
    "        vector with covariance given by the Toeplitz matrix\n",
    "    \n",
    "    b : `numpy.array`, shape=(n_samples,)\n",
    "        Simulated labels\n",
    "    \"\"\"\n",
    "    # Construction of a covariance matrix\n",
    "    cov = toeplitz(corr ** np.arange(0, n_features))\n",
    "    # Simulation of features\n",
    "    A = multivariate_normal(np.zeros(n_features), cov, size=n_samples)\n",
    "    # Simulation of the labels\n",
    "    b = A.dot(coefs) + randn(n_samples)\n",
    "    return A, b"
   ]
  },
  {
   "cell_type": "markdown",
   "metadata": {},
   "source": [
    "## Proximal operators and Solver\n"
   ]
  },
  {
   "cell_type": "markdown",
   "metadata": {},
   "source": [
    "We remind that the proximal operator of a fonction $g$ is given by:\n",
    "\n",
    "$$\n",
    "\\text{prox}_g(y, t) = \\arg\\min_x \\Big\\{ \\frac 12 \\|x - y\\|_2^2 + t g(x) \\Big\\}.\n",
    "$$\n",
    "\n",
    "where $t \\geq 0$ is a non-negative number.\n",
    "We have in mind to use the following cases\n",
    "\n",
    "- Lasso penalization, where $g(x) = s \\|x\\|_1$\n",
    "- Indicator function of $\\mathbb{R}_+$, where $g(x) = i_{x \\geq 0}(\\cdot)$ (this is the convex indicator)\n",
    "\n",
    "where $s \\geq 0$ is a regularization parameter."
   ]
  },
  {
   "cell_type": "markdown",
   "metadata": {},
   "source": [
    "We want to minimize:\n",
    "$$\n",
    "\\arg\\min_x F(x)\n",
    "$$\n",
    "with\n",
    "$$\n",
    " F(x) = \\frac{1}{2} \\|b - Ax\\|^2 + g(x)\n",
    "$$\n",
    "\n",
    "## Questions\n",
    "\n",
    "- Code a function that computes $g(x)$ and $\\text{prox}_g(x)$ for in both cases\n",
    "- Justify why proximal coordinate descent can be applied to obtain a minimum of such objective functions.\n",
    "- Starting from the code provided in the notebook presented during the coordinate descent course as well as the code below, implement a proximal coordinate method for both penalties.\n",
    "- Evaluate qualitatively the convergence when varying the conditioning of the problem.\n",
    "- Bonus: Try to show that coordinate is much less affected by bad conditioning that proximal gradient descent.\n",
    "\n",
    "### You are expected to implement the smart residuals updates !\n",
    "\n",
    "### You are very welcome to reuse everything you did for TP1 !"
   ]
  },
  {
   "cell_type": "markdown",
   "metadata": {},
   "source": [
    "#### Functions to compute g and its proximal function"
   ]
  },
  {
   "cell_type": "code",
   "execution_count": 6,
   "metadata": {
    "collapsed": false
   },
   "outputs": [],
   "source": [
    "def lasso(x, s):\n",
    "    \"\"\"Value of the Lasso penalization at x with strength t\"\"\"\n",
    "    aux = np.abs(x)\n",
    "    result = s * np.sum(aux)\n",
    "    return result\n",
    "\n",
    "def prox_lasso(x, s, t=1.):\n",
    "    \"\"\"Proximal operator for the Lasso at x with strength t\"\"\"   \n",
    "    aux = np.abs(x)\n",
    "    result = np.sign(x) * np.maximum((aux - s*t), 0)\n",
    "    return result\n",
    "    \n",
    "def r_indicator(x, s):\n",
    "    if min(x) < 0:\n",
    "        return np.inf\n",
    "    else:\n",
    "        return 0\n",
    "    \n",
    "def prox_r_indicator(x, s, t=1.):\n",
    "    temp = np.where(x < 0)\n",
    "    x[temp] = 0\n",
    "    return x"
   ]
  },
  {
   "cell_type": "markdown",
   "metadata": {},
   "source": [
    "The first term of the objective function is convex differentiable and the second term is linearly separable and each $g_i$ is convex. Indeed, for the lasso regularization, we have: $\\forall i = 1,...,n \\quad g_i(x^{(i)}) = \\text{sign}(x^{(i)}) \\: (|x^{(i)}| - st)_{+}$ and for the indicator function of $\\mathbb{R}_{+}$, we have: $\\forall i = 1,...,n \\quad g_i(x^{(i)}) = i_{x^{(i)} \\geq 0}$."
   ]
  },
  {
   "cell_type": "code",
   "execution_count": 15,
   "metadata": {
    "collapsed": true
   },
   "outputs": [],
   "source": [
    "from numpy.linalg import norm"
   ]
  },
  {
   "cell_type": "markdown",
   "metadata": {},
   "source": [
    "Let's explain the way we update the \"smart residuals\", which will show how we update the coefficients after each iteration. At each iteration, we need to compute $x_{k + 1}^{(i)} = \\text{prox}_{\\gamma_i, g_i}(x_{k}^{(i)} - \\gamma_i \\nabla_i f(x_k))$. We can rewrite $\\nabla_i$ as follows: \n",
    "$\\nabla_i f(x_k) = A_i^T r_k$, with $r_k = (Ax_k - y)$.\n",
    "At each iteration, we only need to update the residuals $r_k$ in a smart way, ie considering that we don't have to recompute the whole matrix multiplication. Indeed, we have: $r_{k + 1} = r_k + (x_k^{(i)} - x_s^{(i)}) \\; A_i$, where $x_k^{(i)}$ represents the i-th component of $x$ at the k-th iteration, and $s$ is the last iteration before $k$, when $x_i$ had been changed. $A_i$ is the i-th column of $A$."
   ]
  },
  {
   "cell_type": "code",
   "execution_count": 76,
   "metadata": {
    "collapsed": false
   },
   "outputs": [],
   "source": [
    "#We redefine a 1D-proximal operator for the indicator function\n",
    "def prox_r_indicator_1D(x, s, t=1.):\n",
    "    if x < 0:\n",
    "        return 0\n",
    "    else:\n",
    "        return x\n",
    "\n",
    "\n",
    "def cd_linreg(x0, A, b, g, prox_g, s=0., n_iter=50,\n",
    "              x_true=coefs, verbose=True):\n",
    "    \"\"\"Proximal gradient descent algorithm\n",
    "\n",
    "    Minimize :\n",
    "    \n",
    "    1/2 ||b−Ax||^2 + s * g(x)\n",
    "    \n",
    "    with coordinate descent.\n",
    "    \"\"\"\n",
    "    x = x0.copy()\n",
    "    x_new = x0.copy()\n",
    "    n_samples, n_features = A.shape\n",
    "\n",
    "    # estimation error history\n",
    "    errors = []\n",
    "    # objective history\n",
    "    objectives = []\n",
    "    # Current estimation error\n",
    "    err = norm(x - x_true) / norm(x_true)\n",
    "    errors.append(err)\n",
    "    # Current objective\n",
    "    obj = 0.5 * np.linalg.norm(b - A.dot(x))**2 + g(x, s)\n",
    "    objectives.append(obj)\n",
    "    \n",
    "    Li = np.sum(A * A, axis = 0)\n",
    "    \n",
    "    x_new[0] = prox_g(x_new[0] - (1/Li[0])*np.dot(A[:,0].T,np.dot(A,x_new)-b),s=s)\n",
    "    \n",
    "    residuals = np.dot(A,x) - b\n",
    "\n",
    "#     if verbose:\n",
    "#         print(\"Lauching Coordinate Descent solver...\")\n",
    "#         print(' | '.join([name.center(8) for name in [\"it\", \"obj\", \"err\"]]))\n",
    "\n",
    "    for k in range(1,n_iter + 1):\n",
    "        i = k % n_features\n",
    "        \n",
    "        alpha = x_new[i-1] - x[i-1]\n",
    "        residuals = residuals + alpha * A[:,i-1]\n",
    "        x = x_new.copy()\n",
    "        \n",
    "        x_new[i] = prox_g(x_new[i] - (1/Li[i])*np.dot(A[:,i].T,residuals),s=s)\n",
    "        \n",
    "        obj = 0.5 * np.linalg.norm(b - A.dot(x))**2 + g(x, s)\n",
    "        err = norm(x - x_true) / norm(x_true)\n",
    "        errors.append(err)\n",
    "        objectives.append(obj)\n",
    "#         if k % 10 == 0 and verbose:\n",
    "#             print(' | '.join([(\"%d\" % k).rjust(8), \n",
    "#                              (\"%.2e\" % obj).rjust(8), \n",
    "#                              (\"%.2e\" % err).rjust(8)]))\n",
    "    return x, objectives, errors"
   ]
  },
  {
   "cell_type": "code",
   "execution_count": 77,
   "metadata": {
    "collapsed": false
   },
   "outputs": [
    {
     "name": "stdout",
     "output_type": "stream",
     "text": [
      "[ 0.    0.9   0.    0.74  0.    0.61  0.    0.5   0.    0.41  0.    0.33\n",
      "  0.    0.27  0.    0.22  0.    0.18  0.    0.15  0.    0.    0.    0.    0.\n",
      "  0.    0.    0.    0.    0.    0.    0.    0.    0.    0.    0.    0.    0.\n",
      "  0.    0.    0.    0.    0.    0.    0.    0.    0.    0.    0.    0.  ]\n"
     ]
    }
   ],
   "source": [
    "print(coefs)"
   ]
  },
  {
   "cell_type": "markdown",
   "metadata": {},
   "source": [
    "### Evaluate qualitatively the convergence when varying the conditioning of the problem."
   ]
  },
  {
   "cell_type": "markdown",
   "metadata": {},
   "source": [
    "### Effect of the penalization function"
   ]
  },
  {
   "cell_type": "markdown",
   "metadata": {},
   "source": [
    "#### LASSO penalization"
   ]
  },
  {
   "cell_type": "code",
   "execution_count": 80,
   "metadata": {
    "collapsed": false
   },
   "outputs": [
    {
     "data": {
      "text/plain": [
       "<matplotlib.legend.Legend at 0x1d0fc0b3c88>"
      ]
     },
     "execution_count": 80,
     "metadata": {},
     "output_type": "execute_result"
    },
    {
     "data": {
      "image/png": "[encoded data removed]",
      "text/plain": [
       "<matplotlib.figure.Figure at 0x1d0fc0532e8>"
      ]
     },
     "metadata": {},
     "output_type": "display_data"
    }
   ],
   "source": [
    "A,b = simu_linreg(coefs = coefs)\n",
    "x0=np.random.randn(n_features)\n",
    "plt.figure()\n",
    "plt.xlim(0, 500)\n",
    "plt.ylim(0, 2)\n",
    "plt.plot(cd_linreg(x0=x0,A=A,b=b,g=lasso,prox_g=prox_lasso,n_iter = 5000, s = 0)[2], color = 'r', label = 's = 0')\n",
    "plt.plot(cd_linreg(x0=x0,A=A,b=b,g=lasso,prox_g=prox_lasso,n_iter = 5000, s = 0.2)[2], color = 'b', label = 's = 0.2')\n",
    "plt.plot(cd_linreg(x0=x0,A=A,b=b,g=lasso,prox_g=prox_lasso,n_iter = 5000, s = 0.5)[2], color = 'g', label = 's = 0.5')\n",
    "\n",
    "plt.legend()"
   ]
  },
  {
   "cell_type": "markdown",
   "metadata": {},
   "source": [
    "We observe that, if we increase the level of penalization $s$, the proximal coordinate descent algorithm converges faster, but the error rate at the limiit is higher. It is normal, because that means that we penalize more the coefficients at each iteration; in the end, their magnitude will be very different from the real value."
   ]
  },
  {
   "cell_type": "markdown",
   "metadata": {},
   "source": [
    "#### $\\mathbb{R}_+$ penalization"
   ]
  },
  {
   "cell_type": "code",
   "execution_count": 81,
   "metadata": {
    "collapsed": false
   },
   "outputs": [
    {
     "data": {
      "text/plain": [
       "<matplotlib.legend.Legend at 0x1d0fbd602e8>"
      ]
     },
     "execution_count": 81,
     "metadata": {},
     "output_type": "execute_result"
    },
    {
     "data": {
      "image/png": "[encoded data removed]",
      "text/plain": [
       "<matplotlib.figure.Figure at 0x1d0fbde4c50>"
      ]
     },
     "metadata": {},
     "output_type": "display_data"
    }
   ],
   "source": [
    "A,b = simu_linreg(coefs = coefs)\n",
    "x0=np.random.randn(n_features)\n",
    "plt.figure()\n",
    "plt.xlim(0, 500)\n",
    "plt.ylim(0, 2)\n",
    "plt.plot(cd_linreg(x0=x0,A=A,b=b,g=r_indicator,prox_g=prox_r_indicator_1D,n_iter = 5000, s = 0)[2], color = 'r', label = 's = 0')\n",
    "plt.plot(cd_linreg(x0=x0,A=A,b=b,g=r_indicator,prox_g=prox_r_indicator_1D,n_iter = 5000, s = 0.2)[2], color = 'b', label = 's = 0.2')\n",
    "plt.plot(cd_linreg(x0=x0,A=A,b=b,g=r_indicator,prox_g=prox_r_indicator_1D,n_iter = 5000, s = 0.5)[2], color = 'g', label = 's = 0.5')\n",
    "\n",
    "plt.legend()"
   ]
  },
  {
   "cell_type": "markdown",
   "metadata": {},
   "source": [
    "In that case, the $s$ has no effect on the convergence speed, which is normal since the proximal function associated does not depend on $s$."
   ]
  },
  {
   "cell_type": "markdown",
   "metadata": {},
   "source": [
    "### Effect of the correlation of the features"
   ]
  },
  {
   "cell_type": "markdown",
   "metadata": {},
   "source": [
    "#### LASSO penalization"
   ]
  },
  {
   "cell_type": "code",
   "execution_count": 94,
   "metadata": {
    "collapsed": false
   },
   "outputs": [
    {
     "data": {
      "text/plain": [
       "<matplotlib.legend.Legend at 0x1d0fd5b1b70>"
      ]
     },
     "execution_count": 94,
     "metadata": {},
     "output_type": "execute_result"
    },
    {
     "data": {
      "image/png": "[encoded data removed]",
      "text/plain": [
       "<matplotlib.figure.Figure at 0x1d0fd4df9b0>"
      ]
     },
     "metadata": {},
     "output_type": "display_data"
    }
   ],
   "source": [
    "plt.figure()\n",
    "plt.xlim(0, 1000)\n",
    "plt.ylim(0, 2)\n",
    "A,b = simu_linreg(coefs = coefs, corr = 0.1)\n",
    "x0=np.random.randn(n_features)\n",
    "plt.plot(cd_linreg(x0=x0,A=A,b=b,g=lasso,prox_g=prox_lasso,n_iter = 5000, s = 0.1)[2], color = 'r', label = 'cor = 0.1')\n",
    "\n",
    "A,b = simu_linreg(coefs = coefs, corr = 0.3)\n",
    "x0=np.random.randn(n_features)\n",
    "plt.plot(cd_linreg(x0=x0,A=A,b=b,g=lasso,prox_g=prox_lasso,n_iter = 5000, s = 0.1)[2], color = 'b', label = 'cor = 0.3')\n",
    "\n",
    "A,b = simu_linreg(coefs = coefs, corr = 0.5)\n",
    "x0=np.random.randn(n_features)\n",
    "plt.plot(cd_linreg(x0=x0,A=A,b=b,g=lasso,prox_g=prox_lasso,n_iter = 5000, s = 0.1)[2], color = 'g', label = 'cor = 0.5')\n",
    "\n",
    "A,b = simu_linreg(coefs = coefs, corr = 0.7)\n",
    "x0=np.random.randn(n_features)\n",
    "plt.plot(cd_linreg(x0=x0,A=A,b=b,g=lasso,prox_g=prox_lasso,n_iter = 5000, s = 0.1)[2], color = 'y', label = 'cor = 0.7')\n",
    "\n",
    "A,b = simu_linreg(coefs = coefs, corr = 0.9)\n",
    "x0=np.random.randn(n_features)\n",
    "plt.plot(cd_linreg(x0=x0,A=A,b=b,g=lasso,prox_g=prox_lasso,n_iter = 5000, s = 0.1)[2], color = 'black', label = 'cor = 0.9')\n",
    "\n",
    "plt.legend()"
   ]
  },
  {
   "cell_type": "markdown",
   "metadata": {},
   "source": [
    "We observe that, if we increase the correlation in the features, the convergence speed is lowered. In the meantime, all these algorithms converge approximately to the same value."
   ]
  },
  {
   "cell_type": "markdown",
   "metadata": {},
   "source": [
    "#### $\\mathbb{R}_+$ penalization"
   ]
  },
  {
   "cell_type": "code",
   "execution_count": 95,
   "metadata": {
    "collapsed": false
   },
   "outputs": [
    {
     "data": {
      "text/plain": [
       "<matplotlib.legend.Legend at 0x1d0fd632f98>"
      ]
     },
     "execution_count": 95,
     "metadata": {},
     "output_type": "execute_result"
    },
    {
     "data": {
      "image/png": "[encoded data removed]",
      "text/plain": [
       "<matplotlib.figure.Figure at 0x1d0fd55c710>"
      ]
     },
     "metadata": {},
     "output_type": "display_data"
    }
   ],
   "source": [
    "plt.figure()\n",
    "plt.xlim(0, 1000)\n",
    "plt.ylim(0, 2)\n",
    "A,b = simu_linreg(coefs = coefs, corr = 0.1)\n",
    "x0=np.random.randn(n_features)\n",
    "plt.plot(cd_linreg(x0=x0,A=A,b=b,g=r_indicator,prox_g=prox_r_indicator_1D,n_iter = 5000, s = 0.1)[2], color = 'r', label = 'cor = 0.1')\n",
    "\n",
    "A,b = simu_linreg(coefs = coefs, corr = 0.3)\n",
    "x0=np.random.randn(n_features)\n",
    "plt.plot(cd_linreg(x0=x0,A=A,b=b,g=r_indicator,prox_g=prox_r_indicator_1D,n_iter = 5000, s = 0.1)[2], color = 'b', label = 'cor = 0.3')\n",
    "\n",
    "A,b = simu_linreg(coefs = coefs, corr = 0.5)\n",
    "x0=np.random.randn(n_features)\n",
    "plt.plot(cd_linreg(x0=x0,A=A,b=b,g=r_indicator,prox_g=prox_r_indicator_1D,n_iter = 5000, s = 0.1)[2], color = 'g', label = 'cor = 0.5')\n",
    "\n",
    "A,b = simu_linreg(coefs = coefs, corr = 0.7)\n",
    "x0=np.random.randn(n_features)\n",
    "plt.plot(cd_linreg(x0=x0,A=A,b=b,g=r_indicator,prox_g=prox_r_indicator_1D,n_iter = 5000, s = 0.1)[2], color = 'y', label = 'cor = 0.7')\n",
    "\n",
    "A,b = simu_linreg(coefs = coefs, corr = 0.9)\n",
    "x0=np.random.randn(n_features)\n",
    "plt.plot(cd_linreg(x0=x0,A=A,b=b,g=r_indicator,prox_g=prox_r_indicator_1D,n_iter = 5000, s = 0.1)[2], color = 'black', label = 'cor = 0.9')\n",
    "\n",
    "plt.legend()"
   ]
  },
  {
   "cell_type": "markdown",
   "metadata": {},
   "source": [
    "We observe the same phenomenon with the $\\mathbb{R}_+$ penalization."
   ]
  },
  {
   "cell_type": "code",
   "execution_count": null,
   "metadata": {
    "collapsed": true
   },
   "outputs": [],
   "source": []
  }
 ],
 "metadata": {
  "kernelspec": {
   "display_name": "Python [Root]",
   "language": "python",
   "name": "Python [Root]"
  },
  "language_info": {
   "codemirror_mode": {
    "name": "ipython",
    "version": 3
   },
   "file_extension": ".py",
   "mimetype": "text/x-python",
   "name": "python",
   "nbconvert_exporter": "python",
   "pygments_lexer": "ipython3",
   "version": "3.5.2"
  },
  "widgets": {
   "state": {},
   "version": "1.1.2"
  }
 },
 "nbformat": 4,
 "nbformat_minor": 0
}
