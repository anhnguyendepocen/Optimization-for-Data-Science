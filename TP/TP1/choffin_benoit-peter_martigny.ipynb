{
 "cells": [
  {
   "cell_type": "markdown",
   "metadata": {},
   "source": [
    "# TP1 : First order methods on regression models\n",
    "\n",
    "#### Authors: S. Gaiffas, A. Gramfort\n",
    "\n",
    "The aim of this material is to derive proximity operators for common regularizations:\n",
    "\n",
    "- L1\n",
    "- Group-L1 \n",
    "\n",
    "and to use them in first order optimization algorithms for regression. The focus is on Ista / Fista for this notebook.\n",
    "\n",
    "This work **must be done by pairs of students**. One document for each pair of students should be sent to: <alexandre.gramfort@telecom-paristech.fr>\n",
    "\n",
    "**IMPORTANT**:\n",
    "- use as object/title for your email **\"TP1-DS-Optim\"**\n",
    "- the filename of the notebook **must be name1_name2.ipynb** (where name1 and name2 are the names of the students)"
   ]
  },
  {
   "cell_type": "code",
   "execution_count": 3,
   "metadata": {
    "collapsed": false
   },
   "outputs": [],
   "source": [
    "# to embed figures in the notebook\n",
    "%matplotlib inline"
   ]
  },
  {
   "cell_type": "markdown",
   "metadata": {},
   "source": [
    "## Part 0 : Introduction\n",
    "\n",
    "We'll start by generating sparse vectors and simulating data"
   ]
  },
  {
   "cell_type": "code",
   "execution_count": 1,
   "metadata": {
    "collapsed": true
   },
   "outputs": [],
   "source": [
    "import numpy as np\n",
    "import matplotlib.pyplot as plt\n",
    "np.set_printoptions(precision=2)  # to have simpler print outputs with numpy"
   ]
  },
  {
   "cell_type": "code",
   "execution_count": 7,
   "metadata": {
    "collapsed": false,
    "scrolled": true
   },
   "outputs": [
    {
     "data": {
      "image/png": "[encoded data removed]",
      "text/plain": [
       "<matplotlib.figure.Figure at 0x240ea7665f8>"
      ]
     },
     "metadata": {},
     "output_type": "display_data"
    }
   ],
   "source": [
    "n_features = 50\n",
    "n_samples = 2000\n",
    "idx = np.arange(n_features)\n",
    "coefs = (-1) ** (idx - 1) * np.exp(-idx / 10.)\n",
    "coefs[20:] = 0.\n",
    "plt.stem(coefs)\n",
    "plt.title(\"Parameters / Coefficients\")\n",
    "plt.show()"
   ]
  },
  {
   "cell_type": "code",
   "execution_count": 8,
   "metadata": {
    "collapsed": false
   },
   "outputs": [],
   "source": [
    "# Simulation of the features matrix\n",
    "from numpy.random import multivariate_normal\n",
    "from scipy.linalg.special_matrices import toeplitz\n",
    "\n",
    "# Correlation\n",
    "rho = 0.7\n",
    "\n",
    "# Construction of a covariance matrix\n",
    "cov = toeplitz(rho ** np.arange(0, n_features))"
   ]
  },
  {
   "cell_type": "code",
   "execution_count": 13,
   "metadata": {
    "collapsed": true
   },
   "outputs": [],
   "source": [
    "# Simulation of Gaussian vectors with this covariance matrix (it will be the features)\n",
    "A = multivariate_normal(np.zeros(n_features), cov, size=n_samples)"
   ]
  },
  {
   "cell_type": "code",
   "execution_count": 17,
   "metadata": {
    "collapsed": false
   },
   "outputs": [
    {
     "data": {
      "text/plain": [
       "(2000, 50)"
      ]
     },
     "execution_count": 17,
     "metadata": {},
     "output_type": "execute_result"
    }
   ],
   "source": [
    "A.shape"
   ]
  },
  {
   "cell_type": "code",
   "execution_count": 18,
   "metadata": {
    "collapsed": false
   },
   "outputs": [],
   "source": [
    "from numpy.random import randn\n",
    "\n",
    "# Simulation of a linear model\n",
    "std = 1.\n",
    "noise = std * randn(n_samples)\n",
    "\n",
    "# Simulation of the labels according to the linear regression model : b = A coefs + noise\n",
    "b = A.dot(coefs) + noise"
   ]
  },
  {
   "cell_type": "markdown",
   "metadata": {},
   "source": [
    "## Questions\n",
    "\n",
    "- Visualize the covariance of the features. You can use plt.matshow.\n",
    "- What is the influence of the rho parameter? Can you quantify it using the condition number of the generated matrix X? Use the `scipy.linalg.svd` function to extract the singular values of X."
   ]
  },
  {
   "cell_type": "code",
   "execution_count": 60,
   "metadata": {
    "collapsed": false
   },
   "outputs": [],
   "source": [
    "def viz(rho):\n",
    "\n",
    "    # Construction of a covariance matrix\n",
    "    cov = toeplitz(rho ** np.arange(0, n_features))\n",
    "    \n",
    "    # Simulation of Gaussian vectors with this covariance matrix (it will be the features)\n",
    "    A = multivariate_normal(np.zeros(n_features), cov, size=n_samples)\n",
    "    \n",
    "    # Simulation of a linear model\n",
    "    std = 1.\n",
    "    noise = std * randn(n_samples)\n",
    "\n",
    "    # Simulation of the labels according to the linear regression model : b = A coefs + noise\n",
    "    b = A.dot(coefs) + noise\n",
    "\n",
    "    plt.matshow(cov)"
   ]
  },
  {
   "cell_type": "code",
   "execution_count": 69,
   "metadata": {
    "collapsed": false
   },
   "outputs": [
    {
     "data": {
      "image/png": "[encoded data removed]",
      "text/plain": [
       "<matplotlib.figure.Figure at 0x19190510390>"
      ]
     },
     "metadata": {},
     "output_type": "display_data"
    }
   ],
   "source": [
    "viz(0.99)"
   ]
  },
  {
   "cell_type": "code",
   "execution_count": 44,
   "metadata": {
    "collapsed": false
   },
   "outputs": [
    {
     "data": {
      "text/plain": [
       "-0.0027270964337779047"
      ]
     },
     "execution_count": 44,
     "metadata": {},
     "output_type": "execute_result"
    }
   ],
   "source": [
    "from scipy.linalg import svd\n",
    "svd(cov)[2].mean()"
   ]
  },
  {
   "cell_type": "markdown",
   "metadata": {},
   "source": [
    "## Part 1 : Proximal operators"
   ]
  },
  {
   "cell_type": "markdown",
   "metadata": {},
   "source": [
    "We remind that the proximal operator of the L1 norm used by the Lasso is defined by:\n",
    "\n",
    "$$\n",
    "\\text{prox}(y) = \\arg\\min_x \\Big\\{ \\frac 12 \\|x - y\\|_2^2 + \\lambda_1 \\|x\\|_1 \\Big\\}.\n",
    "$$\n",
    "\n",
    "It is given by the soft-thresholding operator:\n",
    "\n",
    "$$\n",
    "\\text{prox}(y) = \\text{sign}(y) \\odot (|y| - \\lambda_1)_+.\n",
    "$$"
   ]
  },
  {
   "cell_type": "code",
   "execution_count": 61,
   "metadata": {
    "collapsed": true
   },
   "outputs": [],
   "source": [
    "def prox_lasso(x, l_l1):\n",
    "    \"\"\"Proximal operator for the L1 norm / Lasso at x\"\"\"\n",
    "    x_abs = np.abs(x)\n",
    "    return np.sign(x) * np.maximum(x_abs - l_l1, 0)\n",
    "\n",
    "def lasso(x, l_l1):\n",
    "    \"\"\"Value of the Lasso penalization at x\"\"\"\n",
    "    return l_l1 * np.abs(x).sum()"
   ]
  },
  {
   "cell_type": "code",
   "execution_count": 97,
   "metadata": {
    "collapsed": true
   },
   "outputs": [],
   "source": [
    "def prox_ridge(x, l_l2):\n",
    "    \"\"\"Proximal operator for the L1 norm / Lasso at x\"\"\"\n",
    "    aux = max(0, 1-(l_l2/((x**2).sum())))\n",
    "    return aux*x\n",
    "\n",
    "def ridge(x, l_l2):\n",
    "    \"\"\"Value of the Lasso penalization at x\"\"\"\n",
    "    return (l_l2/2) * (x**2).sum()"
   ]
  },
  {
   "cell_type": "code",
   "execution_count": 99,
   "metadata": {
    "collapsed": false
   },
   "outputs": [
    {
     "data": {
      "text/plain": [
       "array([ 0.28,  0.45, -1.24, -0.53,  1.59,  0.01,  0.53, -0.99, -0.47,  1.7 ])"
      ]
     },
     "execution_count": 99,
     "metadata": {},
     "output_type": "execute_result"
    }
   ],
   "source": [
    "prox_ridge(randn(10), 1)"
   ]
  },
  {
   "cell_type": "markdown",
   "metadata": {},
   "source": [
    "The proximal operator for the Elastic-Net is defined by:\n",
    "\n",
    "$$\n",
    "\\text{prox}(y) = \\arg\\min_x \\Big\\{ \\frac 12 \\|x - y\\|_2^2 + \\lambda_1 \\|x\\|_1 + \\frac{\\lambda_2}{2} \\|x\\|_2^2 \\Big\\}\n",
    "$$\n",
    "\n",
    "## Questions\n",
    "\n",
    "- Implement the proximal operator of the Elastic-Net\n",
    "- Visualize the functions applied element wise by the proximity operators of the Lasso (so called soft-thresholding function) and the Elastic-Net"
   ]
  },
  {
   "cell_type": "code",
   "execution_count": 103,
   "metadata": {
    "collapsed": true
   },
   "outputs": [],
   "source": [
    "from numpy.linalg import norm\n",
    "\n",
    "def prox_enet(x, l_l1, l_l2):\n",
    "    \"\"\"Proximal operator for the elastic net at x\"\"\"\n",
    "    if l_l1 == 0:\n",
    "        return prox_ridge(x, l_l2)\n",
    "    elif l_l2 == 0:\n",
    "        return prox_lasso(x, l_l1)\n",
    "    else:\n",
    "        return  (1/l_l2)*prox_lasso(x, l_l1)\n",
    "\n",
    "def enet(x, l_l1, l_l2):\n",
    "    \"\"\"Value of the Elastic-net penalization at x\"\"\"\n",
    "    return lasso(x, l_l1) + (x**2).sum()*l_l2/2"
   ]
  },
  {
   "cell_type": "code",
   "execution_count": 104,
   "metadata": {
    "collapsed": false
   },
   "outputs": [],
   "source": [
    "x = randn(50)"
   ]
  },
  {
   "cell_type": "code",
   "execution_count": 105,
   "metadata": {
    "collapsed": false
   },
   "outputs": [
    {
     "data": {
      "text/plain": [
       "array([ -6.88e-01,   2.50e-01,   6.61e-01,   1.23e+00,   3.64e-02,\n",
       "        -9.72e-01,   1.27e-01,   3.36e-01,  -1.39e-01,  -1.12e+00,\n",
       "         9.19e-01,   1.37e+00,  -9.49e-01,   1.96e+00,  -1.83e-01,\n",
       "         1.03e-01,  -1.36e+00,   3.84e-01,   3.01e-01,  -2.13e-01,\n",
       "        -3.09e-01,  -9.12e-01,  -6.14e-01,  -2.11e+00,   4.52e-01,\n",
       "         7.19e-01,  -5.29e-01,  -8.60e-02,  -1.75e-02,  -2.64e-01,\n",
       "        -2.19e+00,   5.97e-01,  -2.88e-01,   2.55e-01,  -3.16e-01,\n",
       "         3.62e-01,  -5.07e-01,   4.47e-01,   7.28e-01,   1.07e+00,\n",
       "         2.77e-01,   1.52e+00,   1.21e+00,  -4.82e-01,  -1.57e+00,\n",
       "        -7.45e-02,  -4.34e-01,  -1.71e+00,  -1.51e+00,  -8.02e-04])"
      ]
     },
     "execution_count": 105,
     "metadata": {},
     "output_type": "execute_result"
    }
   ],
   "source": [
    "prox_enet(x, 0, 2)"
   ]
  },
  {
   "cell_type": "code",
   "execution_count": 106,
   "metadata": {
    "collapsed": false
   },
   "outputs": [
    {
     "data": {
      "text/plain": [
       "13.0"
      ]
     },
     "execution_count": 106,
     "metadata": {},
     "output_type": "execute_result"
    }
   ],
   "source": [
    "enet(np.array([1, 2, 3]), 1, 1)"
   ]
  },
  {
   "cell_type": "markdown",
   "metadata": {},
   "source": [
    "## Visualization\n",
    "\n",
    "We are now going to visualize the effect of the proximity operators on coefficients."
   ]
  },
  {
   "cell_type": "code",
   "execution_count": 113,
   "metadata": {
    "collapsed": false,
    "scrolled": false
   },
   "outputs": [
    {
     "data": {
      "text/plain": [
       "(-2, 2)"
      ]
     },
     "execution_count": 113,
     "metadata": {},
     "output_type": "execute_result"
    },
    {
     "data": {
      "image/png": "[encoded data removed]",
      "text/plain": [
       "<matplotlib.figure.Figure at 0x240ee12b048>"
      ]
     },
     "metadata": {},
     "output_type": "display_data"
    }
   ],
   "source": [
    "x = randn(50)\n",
    "l_l1 = 1\n",
    "l_l2 = 0\n",
    "\n",
    "plt.rcParams['figure.figsize'] = (15.0, 4.0)\n",
    "plt.subplot(1, 3, 1)\n",
    "plt.stem(x)\n",
    "plt.title(\"Original parameter\")\n",
    "plt.ylim([-2, 2])\n",
    "plt.subplot(1, 3, 2)\n",
    "plt.stem(prox_lasso(x, l_l1=l_l1))\n",
    "plt.title(\"Proximal Lasso\")\n",
    "plt.ylim([-2, 2])\n",
    "plt.subplot(1, 3, 3)\n",
    "plt.stem(prox_enet(x, l_l1=l_l1, l_l2=l_l2))\n",
    "plt.title(\"Proximal E-Net\")\n",
    "plt.ylim([-2, 2])"
   ]
  },
  {
   "cell_type": "markdown",
   "metadata": {},
   "source": [
    "## Question\n",
    "\n",
    "- Comment what you observe (3 sentences max)."
   ]
  },
  {
   "cell_type": "markdown",
   "metadata": {},
   "source": [
    "## Part 2: Gradients\n",
    "\n",
    "The problems we want to minimize take the form:\n",
    "$$\n",
    "\\arg\\min_x f(x) + g(x)\n",
    "$$\n",
    "where $f$ is $L$-smooth and $g$ is prox-capable.\n",
    "\n",
    "We will consider below penalized linear regression problems, namely\n",
    "\n",
    "$$\n",
    "f(x) = \\frac{1}{2 n} \\| b - A x \\|^2\n",
    "$$\n",
    "\n",
    "where $n$ is the sample size.\n",
    "\n",
    "We therefore need to be able to compute $f$ and its gradient"
   ]
  },
  {
   "cell_type": "markdown",
   "metadata": {},
   "source": [
    "**Questions**:\n",
    "- Code a function that computes the gradient of f\n",
    "- Check that this function is correct by numerically checking the gradient, using the function ``checkgrad`` from ``scipy.optimize``"
   ]
  },
  {
   "cell_type": "code",
   "execution_count": 147,
   "metadata": {
    "collapsed": false,
    "scrolled": true
   },
   "outputs": [
    {
     "ename": "ValueError",
     "evalue": "operands could not be broadcast together with shapes (2000,) (50,) ",
     "output_type": "error",
     "traceback": [
      "\u001b[1;31m---------------------------------------------------------------------------\u001b[0m",
      "\u001b[1;31mValueError\u001b[0m                                Traceback (most recent call last)",
      "\u001b[1;32m<ipython-input-147-1da07b59f745>\u001b[0m in \u001b[0;36m<module>\u001b[1;34m()\u001b[0m\n\u001b[0;32m     12\u001b[0m \u001b[0mx\u001b[0m \u001b[1;33m=\u001b[0m \u001b[0mnp\u001b[0m\u001b[1;33m.\u001b[0m\u001b[0mrandom\u001b[0m\u001b[1;33m.\u001b[0m\u001b[0mrandn\u001b[0m\u001b[1;33m(\u001b[0m\u001b[0mn_features\u001b[0m\u001b[1;33m)\u001b[0m\u001b[1;33m\u001b[0m\u001b[0m\n\u001b[0;32m     13\u001b[0m \u001b[1;33m\u001b[0m\u001b[0m\n\u001b[1;32m---> 14\u001b[1;33m \u001b[0mprint\u001b[0m\u001b[1;33m(\u001b[0m\u001b[0mcheck_grad\u001b[0m\u001b[1;33m(\u001b[0m\u001b[0mf\u001b[0m\u001b[1;33m,\u001b[0m \u001b[0mgrad_f\u001b[0m\u001b[1;33m,\u001b[0m \u001b[0mx\u001b[0m\u001b[1;33m)\u001b[0m\u001b[1;33m)\u001b[0m \u001b[1;31m# This should be a very small number\u001b[0m\u001b[1;33m\u001b[0m\u001b[0m\n\u001b[0m",
      "\u001b[1;32mC:\\Users\\Peter martigny\\Anaconda3\\lib\\site-packages\\scipy\\optimize\\optimize.py\u001b[0m in \u001b[0;36mcheck_grad\u001b[1;34m(func, grad, x0, *args, **kwargs)\u001b[0m\n\u001b[0;32m    669\u001b[0m                          (list(kwargs.keys()),))\n\u001b[0;32m    670\u001b[0m     return sqrt(sum((grad(x0, *args) -\n\u001b[1;32m--> 671\u001b[1;33m                      approx_fprime(x0, func, step, *args))**2))\n\u001b[0m\u001b[0;32m    672\u001b[0m \u001b[1;33m\u001b[0m\u001b[0m\n\u001b[0;32m    673\u001b[0m \u001b[1;33m\u001b[0m\u001b[0m\n",
      "\u001b[1;31mValueError\u001b[0m: operands could not be broadcast together with shapes (2000,) (50,) "
     ]
    }
   ],
   "source": [
    "# TO BE COMPLETED\n",
    "\n",
    "# Least-squares loss\n",
    "def f(x):\n",
    "    return 0.5 * norm(b - A.dot(x)) ** 2 / n_samples\n",
    "\n",
    "def grad_f(x):\n",
    "    return (b - A.dot(x)) / n_samples # TODO\n",
    "\n",
    "from scipy.optimize import check_grad\n",
    "\n",
    "x = np.random.randn(n_features)\n",
    "\n",
    "print(check_grad(f, grad_f, x)) # This should be a very small number"
   ]
  },
  {
   "cell_type": "code",
   "execution_count": 145,
   "metadata": {
    "collapsed": false
   },
   "outputs": [
    {
     "data": {
      "text/plain": [
       "((2000,), (50,))"
      ]
     },
     "execution_count": 145,
     "metadata": {},
     "output_type": "execute_result"
    }
   ],
   "source": [
    "grad_f(x).shape, x.shape"
   ]
  },
  {
   "cell_type": "markdown",
   "metadata": {},
   "source": [
    "## Part 3: Solvers"
   ]
  },
  {
   "cell_type": "markdown",
   "metadata": {},
   "source": [
    "We know have a function to compute $f$ and $g$ and their gradients. We want now to code the Ista and Fista solvers to minimize\n",
    "\n",
    "$$\n",
    "\\arg\\min_x f(x) + g(x)\n",
    "$$\n",
    "\n",
    "**Questions**:\n",
    "- Implement ISTA algorithm for the Elastic-Net.\n",
    "\n",
    "- Implement FISTA algorithm for the Elastic-Net.\n",
    "\n",
    "Remark: The `step` parameter will be taken as 1 / L"
   ]
  },
  {
   "cell_type": "code",
   "execution_count": 149,
   "metadata": {
    "collapsed": false
   },
   "outputs": [
    {
     "ename": "NameError",
     "evalue": "name 'ista' is not defined",
     "output_type": "error",
     "traceback": [
      "\u001b[1;31m---------------------------------------------------------------------------\u001b[0m",
      "\u001b[1;31mNameError\u001b[0m                                 Traceback (most recent call last)",
      "\u001b[1;32m<ipython-input-149-0d9f65b509cd>\u001b[0m in \u001b[0;36m<module>\u001b[1;34m()\u001b[0m\n\u001b[1;32m----> 1\u001b[1;33m \u001b[0mista\u001b[0m\u001b[1;33m(\u001b[0m\u001b[0mrandn\u001b[0m\u001b[1;33m(\u001b[0m\u001b[1;36m10\u001b[0m\u001b[1;33m,\u001b[0m \u001b[1;36m1\u001b[0m\u001b[1;33m,\u001b[0m \u001b[1;36m1\u001b[0m\u001b[1;33m,\u001b[0m \u001b[0mstep\u001b[0m \u001b[1;33m=\u001b[0m \u001b[1;36m1\u001b[0m\u001b[1;33m)\u001b[0m\u001b[1;33m)\u001b[0m\u001b[1;33m\u001b[0m\u001b[0m\n\u001b[0m",
      "\u001b[1;31mNameError\u001b[0m: name 'ista' is not defined"
     ]
    }
   ],
   "source": [
    "ista(randn(10, 1, 1, step = 1))"
   ]
  },
  {
   "cell_type": "code",
   "execution_count": 156,
   "metadata": {
    "collapsed": false
   },
   "outputs": [
    {
     "data": {
      "text/plain": [
       "'  obj   '"
      ]
     },
     "execution_count": 156,
     "metadata": {},
     "output_type": "execute_result"
    }
   ],
   "source": [
    "\"obj\".center(8)"
   ]
  },
  {
   "cell_type": "code",
   "execution_count": 159,
   "metadata": {
    "collapsed": false
   },
   "outputs": [],
   "source": [
    "# TO BE COMPLETED\n",
    "\n",
    "def ista(x0, l_l1=0., l_l2=0., step=None, n_iter=50, x_true=coefs):\n",
    "    x = x0.copy()\n",
    "    x_new = x0.copy()\n",
    "    \n",
    "    def g(x):\n",
    "        return enet(x, l_l1, l_l2) # TODO\n",
    "\n",
    "    def prox_g(x, t):\n",
    "        x = x - t*grad_f(x)\n",
    "        return  prox_lasso(x, t) # TODO    \n",
    "    \n",
    "    if step is None:\n",
    "        step = 0  # TODO\n",
    "\n",
    "    # estimation error history\n",
    "    errors = []\n",
    "    # objective history\n",
    "    objectives = []\n",
    "    # Current estimation error\n",
    "    err = norm(x - x_true) / norm(x_true)\n",
    "    errors.append(err)\n",
    "    # Current objective\n",
    "    obj = f(x) + g(x)\n",
    "    objectives.append(obj)    \n",
    "    print(\"Lauching ISTA solver...\")\n",
    "    #print' | '.join([name.center(8) for name in [\"it\", \"obj\", \"err\"]])\n",
    "    for k in range(n_iter):\n",
    "        # ISTA update\n",
    "        x_new[:] = prox_g(x, step)  # TODO\n",
    "        x[:] = x_new  # TODO\n",
    "        obj = f(x) + g(x)\n",
    "        err = norm(x - x_true) / norm(x_true)\n",
    "        errors.append(err)\n",
    "        objectives.append(obj)\n",
    "        if k % 10 == 0:\n",
    "            pass\n",
    "            #print ' | '.join( [ (\"%d\" % k).rjust(8), (\"%.2e\" % obj).rjust(8), (\"%.2e\" % err).rjust(8)])\n",
    "    return x, objectives, errors"
   ]
  },
  {
   "cell_type": "code",
   "execution_count": 161,
   "metadata": {
    "collapsed": false
   },
   "outputs": [
    {
     "name": "stdout",
     "output_type": "stream",
     "text": [
      "Lauching ISTA solver...\n"
     ]
    },
    {
     "ename": "ValueError",
     "evalue": "operands could not be broadcast together with shapes (50,) (2000,) ",
     "output_type": "error",
     "traceback": [
      "\u001b[1;31m---------------------------------------------------------------------------\u001b[0m",
      "\u001b[1;31mValueError\u001b[0m                                Traceback (most recent call last)",
      "\u001b[1;32m<ipython-input-161-67a9ae639ce5>\u001b[0m in \u001b[0;36m<module>\u001b[1;34m()\u001b[0m\n\u001b[1;32m----> 1\u001b[1;33m \u001b[0mista\u001b[0m\u001b[1;33m(\u001b[0m\u001b[0mnp\u001b[0m\u001b[1;33m.\u001b[0m\u001b[0mzeros\u001b[0m\u001b[1;33m(\u001b[0m\u001b[0mn_features\u001b[0m\u001b[1;33m)\u001b[0m\u001b[1;33m,\u001b[0m \u001b[0mstep\u001b[0m \u001b[1;33m=\u001b[0m \u001b[1;36m1\u001b[0m\u001b[1;33m)\u001b[0m\u001b[1;33m\u001b[0m\u001b[0m\n\u001b[0m",
      "\u001b[1;32m<ipython-input-159-f541d225c002>\u001b[0m in \u001b[0;36mista\u001b[1;34m(x0, l_l1, l_l2, step, n_iter, x_true)\u001b[0m\n\u001b[0;32m     29\u001b[0m     \u001b[1;32mfor\u001b[0m \u001b[0mk\u001b[0m \u001b[1;32min\u001b[0m \u001b[0mrange\u001b[0m\u001b[1;33m(\u001b[0m\u001b[0mn_iter\u001b[0m\u001b[1;33m)\u001b[0m\u001b[1;33m:\u001b[0m\u001b[1;33m\u001b[0m\u001b[0m\n\u001b[0;32m     30\u001b[0m         \u001b[1;31m# ISTA update\u001b[0m\u001b[1;33m\u001b[0m\u001b[1;33m\u001b[0m\u001b[0m\n\u001b[1;32m---> 31\u001b[1;33m         \u001b[0mx_new\u001b[0m\u001b[1;33m[\u001b[0m\u001b[1;33m:\u001b[0m\u001b[1;33m]\u001b[0m \u001b[1;33m=\u001b[0m \u001b[0mprox_g\u001b[0m\u001b[1;33m(\u001b[0m\u001b[0mx\u001b[0m\u001b[1;33m,\u001b[0m \u001b[0mstep\u001b[0m\u001b[1;33m)\u001b[0m  \u001b[1;31m# TODO\u001b[0m\u001b[1;33m\u001b[0m\u001b[0m\n\u001b[0m\u001b[0;32m     32\u001b[0m         \u001b[0mx\u001b[0m\u001b[1;33m[\u001b[0m\u001b[1;33m:\u001b[0m\u001b[1;33m]\u001b[0m \u001b[1;33m=\u001b[0m \u001b[0mx_new\u001b[0m  \u001b[1;31m# TODO\u001b[0m\u001b[1;33m\u001b[0m\u001b[0m\n\u001b[0;32m     33\u001b[0m         \u001b[0mobj\u001b[0m \u001b[1;33m=\u001b[0m \u001b[0mf\u001b[0m\u001b[1;33m(\u001b[0m\u001b[0mx\u001b[0m\u001b[1;33m)\u001b[0m \u001b[1;33m+\u001b[0m \u001b[0mg\u001b[0m\u001b[1;33m(\u001b[0m\u001b[0mx\u001b[0m\u001b[1;33m)\u001b[0m\u001b[1;33m\u001b[0m\u001b[0m\n",
      "\u001b[1;32m<ipython-input-159-f541d225c002>\u001b[0m in \u001b[0;36mprox_g\u001b[1;34m(x, t)\u001b[0m\n\u001b[0;32m      9\u001b[0m \u001b[1;33m\u001b[0m\u001b[0m\n\u001b[0;32m     10\u001b[0m     \u001b[1;32mdef\u001b[0m \u001b[0mprox_g\u001b[0m\u001b[1;33m(\u001b[0m\u001b[0mx\u001b[0m\u001b[1;33m,\u001b[0m \u001b[0mt\u001b[0m\u001b[1;33m)\u001b[0m\u001b[1;33m:\u001b[0m\u001b[1;33m\u001b[0m\u001b[0m\n\u001b[1;32m---> 11\u001b[1;33m         \u001b[0mx\u001b[0m \u001b[1;33m=\u001b[0m \u001b[0mx\u001b[0m \u001b[1;33m-\u001b[0m \u001b[0mt\u001b[0m\u001b[1;33m*\u001b[0m\u001b[0mgrad_f\u001b[0m\u001b[1;33m(\u001b[0m\u001b[0mx\u001b[0m\u001b[1;33m)\u001b[0m\u001b[1;33m\u001b[0m\u001b[0m\n\u001b[0m\u001b[0;32m     12\u001b[0m         \u001b[1;32mreturn\u001b[0m  \u001b[0mprox_lasso\u001b[0m\u001b[1;33m(\u001b[0m\u001b[0mx\u001b[0m\u001b[1;33m,\u001b[0m \u001b[0mt\u001b[0m\u001b[1;33m)\u001b[0m \u001b[1;31m# TODO\u001b[0m\u001b[1;33m\u001b[0m\u001b[0m\n\u001b[0;32m     13\u001b[0m \u001b[1;33m\u001b[0m\u001b[0m\n",
      "\u001b[1;31mValueError\u001b[0m: operands could not be broadcast together with shapes (50,) (2000,) "
     ]
    }
   ],
   "source": [
    "ista(np.zeros(n_features), step = 1)"
   ]
  },
  {
   "cell_type": "code",
   "execution_count": 15,
   "metadata": {
    "collapsed": true
   },
   "outputs": [],
   "source": [
    "# TO BE COMPLETED\n",
    "\n",
    "def fista(x0, l_l1=0., l_l2=0., step=None, n_iter=50, x_true=coefs):\n",
    "    x = x0.copy()\n",
    "    x_new = x0.copy()\n",
    "\n",
    "    # TODO\n",
    "    return x, objectives, errors"
   ]
  },
  {
   "cell_type": "markdown",
   "metadata": {},
   "source": [
    "Let's launch the algorithms in order to compare them"
   ]
  },
  {
   "cell_type": "code",
   "execution_count": 18,
   "metadata": {
    "collapsed": false,
    "scrolled": true
   },
   "outputs": [
    {
     "name": "stdout",
     "output_type": "stream",
     "text": [
      "Lauching ISTA solver...\n",
      "   it    |   obj    |   err   \n",
      "       0 | 1.05e+00 | 9.69e-01\n",
      "      10 | 9.35e-01 | 8.26e-01\n",
      "      20 | 9.15e-01 | 7.53e-01\n",
      "      30 | 9.08e-01 | 7.11e-01\n",
      "Lauching FISTA solver...\n",
      "   it    |   obj    |   err   \n",
      "       0 | 1.05e+00 | 9.69e-01\n",
      "      10 | 9.19e-01 | 7.72e-01\n",
      "      20 | 9.05e-01 | 6.73e-01\n",
      "      30 | 9.05e-01 | 6.50e-01\n"
     ]
    }
   ],
   "source": [
    "x0 = np.zeros(n_features)\n",
    "n_iter = 40\n",
    "l_l1 = 5e-2\n",
    "l_l2 = 1e-1\n",
    "x_ista, obj_ista, err_ista = ista(x0, l_l1, l_l2, n_iter=n_iter)\n",
    "x_fista, obj_fista, err_fista = fista(x0, l_l1, l_l2, n_iter=n_iter)"
   ]
  },
  {
   "cell_type": "markdown",
   "metadata": {},
   "source": [
    "### Algorithms comparison"
   ]
  },
  {
   "cell_type": "code",
   "execution_count": 19,
   "metadata": {
    "collapsed": false,
    "scrolled": true
   },
   "outputs": [
    {
     "data": {
      "text/plain": [
       "<matplotlib.text.Text at 0x109e48210>"
      ]
     },
     "execution_count": 19,
     "metadata": {},
     "output_type": "execute_result"
    },
    {
     "data": {
      "image/png": "[encoded data removed]",
      "text/plain": [
       "<matplotlib.figure.Figure at 0x10aa6f710>"
      ]
     },
     "metadata": {},
     "output_type": "display_data"
    }
   ],
   "source": [
    "plt.rcParams['figure.figsize'] = (15.0, 4.0)\n",
    "plt.subplot(1, 2, 1)\n",
    "plt.plot(obj_ista, label=\"ISTA\", lw=2)\n",
    "plt.plot(obj_fista, label=\"FISTA\", lw=2)\n",
    "plt.title(\"Objective\")\n",
    "plt.legend()\n",
    "plt.subplot(1, 2, 2)\n",
    "plt.plot(err_ista, label=\"ISTA\", lw=2)\n",
    "plt.plot(err_fista, label=\"FISTA\", lw=2)\n",
    "plt.legend()\n",
    "plt.title(\"Estimation errors\")"
   ]
  },
  {
   "cell_type": "code",
   "execution_count": 20,
   "metadata": {
    "collapsed": false,
    "scrolled": false
   },
   "outputs": [
    {
     "name": "stdout",
     "output_type": "stream",
     "text": [
      "Lauching ISTA solver...\n",
      "   it    |   obj    |   err   \n",
      "       0 | 1.04e+00 | 9.67e-01\n",
      "      10 | 8.91e-01 | 7.82e-01\n",
      "Lauching FISTA solver...\n",
      "   it    |   obj    |   err   \n",
      "       0 | 1.04e+00 | 9.67e-01\n",
      "      10 | 8.64e-01 | 7.10e-01\n"
     ]
    },
    {
     "data": {
      "text/plain": [
       "<matplotlib.text.Text at 0x109918f90>"
      ]
     },
     "execution_count": 20,
     "metadata": {},
     "output_type": "execute_result"
    },
    {
     "data": {
      "image/png": "[encoded data removed]",
      "text/plain": [
       "<matplotlib.figure.Figure at 0x10a0b65d0>"
      ]
     },
     "metadata": {},
     "output_type": "display_data"
    }
   ],
   "source": [
    "# Let's reduce the number of iterations and compare estimators\n",
    "n_iter = 15\n",
    "l_l1 = 3e-2\n",
    "l_l2 = 1e-1\n",
    "\n",
    "x_ista, obj_ista, err_ista = ista(x0, l_l1, l_l2, n_iter=n_iter)\n",
    "x_fista, obj_fista, err_fista = fista(x0, l_l1, l_l2, n_iter=n_iter)\n",
    "\n",
    "# Estimated parameters using ISTA, FISTA and Coordinate Descent\n",
    "plt.rcParams['figure.figsize'] = (16.0, 4.0)\n",
    "plt.subplot(1, 4, 1)\n",
    "plt.stem(coefs)\n",
    "plt.ylim([-1, 1])\n",
    "plt.title(\"True parameter\")\n",
    "plt.subplot(1, 4, 2)\n",
    "plt.stem(x_ista)\n",
    "plt.ylim([-1, 1])\n",
    "plt.title(\"ISTA Solution\")\n",
    "plt.subplot(1, 4, 3)\n",
    "plt.stem(x_fista)\n",
    "plt.ylim([-1, 1])\n",
    "plt.title(\"FISTA Solution\")"
   ]
  },
  {
   "cell_type": "markdown",
   "metadata": {},
   "source": [
    "### Questions"
   ]
  },
  {
   "cell_type": "markdown",
   "metadata": {},
   "source": [
    "- Relaunch solvers with several values of rho (rho = 0.9, rho = 0.1). How does rho affect the convergence? Why?"
   ]
  },
  {
   "cell_type": "markdown",
   "metadata": {},
   "source": [
    "## Part 4. Multitask learning\n",
    "\n",
    "We consider the setting of multitask learning, where instead of a single label $b_i$ we have ``n_tasks`` labels. The model writes\n",
    "\n",
    "$$\n",
    "B = A C + E\n",
    "$$\n",
    "\n",
    "where:\n",
    "- $B$ is a (``n_samples``, ``n_tasks``) labels matrix\n",
    "- $A$ is a (``n_samples``, ``n_features``) features matrix\n",
    "- $C$ is a (``n_features``, ``n_tasks``) matrix of parameters to be estimated\n",
    "- $E$ is a (``n_samples``, ``n_tasks``) noise matrix\n",
    "\n",
    "Let's simulate this model:"
   ]
  },
  {
   "cell_type": "code",
   "execution_count": 50,
   "metadata": {
    "collapsed": false,
    "scrolled": false
   },
   "outputs": [
    {
     "data": {
      "text/plain": [
       "<matplotlib.text.Text at 0x19191a0dd68>"
      ]
     },
     "execution_count": 50,
     "metadata": {},
     "output_type": "execute_result"
    },
    {
     "data": {
      "image/png": "[encoded data removed]",
      "text/plain": [
       "<matplotlib.figure.Figure at 0x1918f76a898>"
      ]
     },
     "metadata": {},
     "output_type": "display_data"
    }
   ],
   "source": [
    "from numpy.random import randn\n",
    "from matplotlib.cm import Greys\n",
    "\n",
    "n_features = 50\n",
    "n_samples = 2000\n",
    "n_tasks = 100\n",
    "\n",
    "std = 5.\n",
    "noise = std * randn(n_samples, n_tasks)\n",
    "\n",
    "coefs = np.zeros((n_features, n_tasks))\n",
    "coefs[0:10, :] = 1.\n",
    "\n",
    "B = A.dot(coefs) + noise\n",
    "\n",
    "plt.matshow(coefs, cmap=Greys)\n",
    "plt.title(\"Coefficients. The first 10 features are active for all tasks\")\n",
    "plt.xlabel(\"Task\")\n",
    "plt.ylabel(\"Feature\")"
   ]
  },
  {
   "cell_type": "markdown",
   "metadata": {},
   "source": [
    "**Questions:**\n",
    "\n",
    "- Code the Lasso for the multitask problem using Fista (most of the previous code could be used as such)\n",
    "- Plot the coefficients obtained "
   ]
  },
  {
   "cell_type": "code",
   "execution_count": 51,
   "metadata": {
    "collapsed": false
   },
   "outputs": [
    {
     "ename": "NameError",
     "evalue": "name 'fista' is not defined",
     "output_type": "error",
     "traceback": [
      "\u001b[1;31m---------------------------------------------------------------------------\u001b[0m",
      "\u001b[1;31mNameError\u001b[0m                                 Traceback (most recent call last)",
      "\u001b[1;32m<ipython-input-51-561a5bb6bfe1>\u001b[0m in \u001b[0;36m<module>\u001b[1;34m()\u001b[0m\n\u001b[0;32m     12\u001b[0m \u001b[0ml_l1\u001b[0m \u001b[1;33m=\u001b[0m \u001b[1;36m0.5\u001b[0m\u001b[1;33m\u001b[0m\u001b[0m\n\u001b[0;32m     13\u001b[0m \u001b[0ml_l2\u001b[0m \u001b[1;33m=\u001b[0m \u001b[1;36m0.\u001b[0m\u001b[1;33m\u001b[0m\u001b[0m\n\u001b[1;32m---> 14\u001b[1;33m \u001b[0mx_fista\u001b[0m\u001b[1;33m,\u001b[0m \u001b[0mobj_fista\u001b[0m\u001b[1;33m,\u001b[0m \u001b[0merr_fista\u001b[0m \u001b[1;33m=\u001b[0m \u001b[0mfista\u001b[0m\u001b[1;33m(\u001b[0m\u001b[0mx0\u001b[0m\u001b[1;33m,\u001b[0m \u001b[0ml_l1\u001b[0m\u001b[1;33m,\u001b[0m \u001b[0ml_l2\u001b[0m\u001b[1;33m,\u001b[0m \u001b[0mn_iter\u001b[0m\u001b[1;33m=\u001b[0m\u001b[0mn_iter\u001b[0m\u001b[1;33m,\u001b[0m \u001b[0mx_true\u001b[0m\u001b[1;33m=\u001b[0m\u001b[0mcoefs\u001b[0m\u001b[1;33m)\u001b[0m\u001b[1;33m\u001b[0m\u001b[0m\n\u001b[0m",
      "\u001b[1;31mNameError\u001b[0m: name 'fista' is not defined"
     ]
    }
   ],
   "source": [
    "# TO BE COMPLETED\n",
    "\n",
    "# Multitask least-squares loss\n",
    "def f(x):\n",
    "    return 0.5 * norm(B - A.dot(x)) ** 2 / (n_samples * n_tasks)\n",
    "\n",
    "def grad_f(x):\n",
    "    return x # TODO\n",
    "\n",
    "x0 = np.random.randn(n_features, n_tasks)\n",
    "n_iter = 50\n",
    "l_l1 = 0.5\n",
    "l_l2 = 0.\n",
    "x_fista, obj_fista, err_fista = fista(x0, l_l1, l_l2, n_iter=n_iter, x_true=coefs)"
   ]
  },
  {
   "cell_type": "markdown",
   "metadata": {},
   "source": [
    "### Solution of the Lasso for the multitask problem"
   ]
  },
  {
   "cell_type": "code",
   "execution_count": 52,
   "metadata": {
    "collapsed": false,
    "scrolled": true
   },
   "outputs": [
    {
     "ename": "NameError",
     "evalue": "name 'x_lasso' is not defined",
     "output_type": "error",
     "traceback": [
      "\u001b[1;31m---------------------------------------------------------------------------\u001b[0m",
      "\u001b[1;31mNameError\u001b[0m                                 Traceback (most recent call last)",
      "\u001b[1;32m<ipython-input-52-b1c496f2b4de>\u001b[0m in \u001b[0;36m<module>\u001b[1;34m()\u001b[0m\n\u001b[1;32m----> 1\u001b[1;33m \u001b[0mplt\u001b[0m\u001b[1;33m.\u001b[0m\u001b[0mmatshow\u001b[0m\u001b[1;33m(\u001b[0m\u001b[0mx_lasso\u001b[0m\u001b[1;33m,\u001b[0m \u001b[0mcmap\u001b[0m\u001b[1;33m=\u001b[0m\u001b[0mGreys\u001b[0m\u001b[1;33m)\u001b[0m\u001b[1;33m\u001b[0m\u001b[0m\n\u001b[0m\u001b[0;32m      2\u001b[0m \u001b[0mplt\u001b[0m\u001b[1;33m.\u001b[0m\u001b[0mtitle\u001b[0m\u001b[1;33m(\u001b[0m\u001b[1;34m\"Recovered coefficients.\"\u001b[0m\u001b[1;33m)\u001b[0m\u001b[1;33m\u001b[0m\u001b[0m\n\u001b[0;32m      3\u001b[0m \u001b[0mplt\u001b[0m\u001b[1;33m.\u001b[0m\u001b[0mxlabel\u001b[0m\u001b[1;33m(\u001b[0m\u001b[1;34m\"Task\"\u001b[0m\u001b[1;33m)\u001b[0m\u001b[1;33m\u001b[0m\u001b[0m\n\u001b[0;32m      4\u001b[0m \u001b[0mplt\u001b[0m\u001b[1;33m.\u001b[0m\u001b[0mylabel\u001b[0m\u001b[1;33m(\u001b[0m\u001b[1;34m\"Feature\"\u001b[0m\u001b[1;33m)\u001b[0m\u001b[1;33m\u001b[0m\u001b[0m\n",
      "\u001b[1;31mNameError\u001b[0m: name 'x_lasso' is not defined"
     ]
    }
   ],
   "source": [
    "plt.matshow(x_lasso, cmap=Greys)\n",
    "plt.title(\"Recovered coefficients.\")\n",
    "plt.xlabel(\"Task\")\n",
    "plt.ylabel(\"Feature\")"
   ]
  },
  {
   "cell_type": "markdown",
   "metadata": {},
   "source": [
    "### Group-Lasso for the multitask problem"
   ]
  },
  {
   "cell_type": "markdown",
   "metadata": {},
   "source": [
    "We want now to use group Lasso for the multitask problem. \n",
    "We consider then the Group-Lasso penalization, with proximal operator given by\n",
    "\n",
    "$$\n",
    "\\text{prox}(Y) = \\arg\\min_X \\Big\\{ \\frac 12 \\|X - Y\\|_F^2 + \\lambda_{2, 1} \\|X\\|_{2, 1} \\Big\\},\n",
    "$$\n",
    "\n",
    "where\n",
    "\n",
    "- $\\|X\\|_F$ is the Frobenius norm (matrix Euclidean norm)\n",
    "- $\\|X\\|_{2, 1} = \\sum_{j=1}^d \\sqrt{\\sum_{k=1}^K X_{j, k}^2}$ with $d$ being the number of features and $K$ the number of tasks"
   ]
  },
  {
   "cell_type": "markdown",
   "metadata": {},
   "source": [
    "**Questions**\n",
    "\n",
    "- Code the proximal operator of the Group-Lasso\n",
    "- Based on the previous Fista solver, code a solver for the group-Lasso\n",
    "- Launch the solver, comment and compare with the Lasso solution"
   ]
  },
  {
   "cell_type": "code",
   "execution_count": 25,
   "metadata": {
    "collapsed": true
   },
   "outputs": [],
   "source": [
    "# TO BE COMPLETED\n",
    "\n",
    "def group_lasso(X, l_group_l1):\n",
    "    return l_group_l1 * np.sqrt((coefs ** 2).sum(axis=1)).sum()\n",
    "\n",
    "def prox_group_lasso(X, l_group_l1):\n",
    "    return x # TODO\n",
    "\n",
    "def fista_group_lasso(x0, l_group_l1=1., step=None, n_iter=50, x_true=coefs):\n",
    "    x = x0.copy()\n",
    "    x_new = x0.copy()\n",
    "    z = x0.copy()\n",
    "    n_samples, n_features = A.shape\n",
    "\n",
    "    def g(x):\n",
    "        return 0. # TODO\n",
    "\n",
    "    def prox_g(x, t):\n",
    "        return x # TODO\n",
    "    \n",
    "    if step is None:\n",
    "        step = 1. / norm(gram_matrix, 2)\n",
    "\n",
    "    errors = []\n",
    "    objectives = []\n",
    "    err = norm(x - x_true) / norm(x_true)\n",
    "    errors.append(err)\n",
    "    obj = f(x) + g(x)\n",
    "    objectives.append(obj)\n",
    "    t = 1.\n",
    "    t_new = 1.    \n",
    "    print \"Lauching FISTA solver...\"    \n",
    "    print ' | '.join([name.center(8) for name in [\"it\", \"obj\", \"err\"]])\n",
    "    for k in range(n_iter):\n",
    "        x_new[:] = prox_g(z - step * grad_f(z), step)\n",
    "        t_new = (1. + (1. + 4. * t * t)) ** (0.5) / 2.\n",
    "        z[:] = x_new + (t - 1) / t_new * (x_new - x)\n",
    "        t = t_new\n",
    "        x[:] = x_new\n",
    "        obj = f(x) + g(x)\n",
    "        err = norm(x - x_true) / norm(x_true)\n",
    "        errors.append(err)\n",
    "        objectives.append(obj)\n",
    "        if k % 10 == 0:\n",
    "            print ' | '.join( [ (\"%d\" % k).rjust(8), (\"%.2e\" % obj).rjust(8), (\"%.2e\" % err).rjust(8)])\n",
    "    return x, objectives, errors"
   ]
  },
  {
   "cell_type": "code",
   "execution_count": 27,
   "metadata": {
    "collapsed": false
   },
   "outputs": [
    {
     "name": "stdout",
     "output_type": "stream",
     "text": [
      "Lauching FISTA solver...\n",
      "   it    |   obj    |   err   \n",
      "       0 | 5.21e+02 | 1.75e+00\n",
      "      10 | 5.13e+02 | 1.87e-01\n",
      "      20 | 5.13e+02 | 1.76e-01\n",
      "      30 | 5.13e+02 | 1.78e-01\n",
      "      40 | 5.13e+02 | 1.79e-01\n"
     ]
    }
   ],
   "source": [
    "x0 = np.random.randn(n_features, n_tasks)\n",
    "n_iter = 50\n",
    "l_group_l1 = 5.\n",
    "x_glasso, _, _ = fista_group_lasso(x0, l_group_l1, n_iter=n_iter, x_true=coefs)"
   ]
  },
  {
   "cell_type": "code",
   "execution_count": 28,
   "metadata": {
    "collapsed": false,
    "scrolled": false
   },
   "outputs": [
    {
     "data": {
      "text/plain": [
       "<matplotlib.text.Text at 0x10b7f8810>"
      ]
     },
     "execution_count": 28,
     "metadata": {},
     "output_type": "execute_result"
    },
    {
     "data": {
      "image/png": "[encoded data removed]",
      "text/plain": [
       "<matplotlib.figure.Figure at 0x10ae52ed0>"
      ]
     },
     "metadata": {},
     "output_type": "display_data"
    }
   ],
   "source": [
    "plt.matshow(x_glasso, cmap=Greys)\n",
    "plt.title(\"Recovered coefficients.\")\n",
    "plt.xlabel(\"Task\")\n",
    "plt.ylabel(\"Feature\")"
   ]
  },
  {
   "cell_type": "markdown",
   "metadata": {},
   "source": [
    "** Extra questions**\n",
    "- Code gradient and likelihood of the logistic regression model. Use ISTA and FISTA to solve penalized logistic regression\n",
    "- Implement a backtracking linesearch in ISTA and FISTA (and increase the step at each iteration to accelerate)"
   ]
  }
 ],
 "metadata": {
  "anaconda-cloud": {},
  "kernelspec": {
   "display_name": "Python [Root]",
   "language": "python",
   "name": "Python [Root]"
  },
  "language_info": {
   "codemirror_mode": {
    "name": "ipython",
    "version": 3
   },
   "file_extension": ".py",
   "mimetype": "text/x-python",
   "name": "python",
   "nbconvert_exporter": "python",
   "pygments_lexer": "ipython3",
   "version": "3.5.2"
  }
 },
 "nbformat": 4,
 "nbformat_minor": 0
}
