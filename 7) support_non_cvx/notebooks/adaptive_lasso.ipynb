{
 "cells": [
  {
   "cell_type": "markdown",
   "metadata": {},
   "source": [
    "# Example of adaptive Lasso\n",
    "\n",
    "Author: Alexandre Gramfort\n",
    "\n",
    "Adaptive lasso consists in computing many Lasso with feature\n",
    "reweighting. It's also known as iterated L1."
   ]
  },
  {
   "cell_type": "code",
   "execution_count": 4,
   "metadata": {
    "collapsed": true
   },
   "outputs": [],
   "source": [
    "import matplotlib.pyplot as plt\n",
    "%matplotlib inline"
   ]
  },
  {
   "cell_type": "code",
   "execution_count": 1,
   "metadata": {
    "collapsed": false
   },
   "outputs": [],
   "source": [
    "import numpy as np\n",
    "from sklearn.datasets import fetch_mldata\n",
    "from sklearn.linear_model import Lasso\n",
    "\n",
    "data = fetch_mldata(\"leukemia\")\n",
    "X = data.data.astype(float)\n",
    "y = data.target.astype(float)\n",
    "X /= np.sum(X ** 2, axis=0)  # scale features"
   ]
  },
  {
   "cell_type": "code",
   "execution_count": 12,
   "metadata": {
    "collapsed": false
   },
   "outputs": [
    {
     "name": "stdout",
     "output_type": "stream",
     "text": [
      "Sparsity: 0.463 %- Objective: 0.11338\n",
      "Sparsity: 0.295 %- Objective: 0.10110\n",
      "Sparsity: 0.267 %- Objective: 0.09868\n",
      "Sparsity: 0.210 %- Objective: 0.09573\n",
      "Sparsity: 0.182 %- Objective: 0.09454\n",
      "Sparsity: 0.182 %- Objective: 0.09453\n",
      "Sparsity: 0.182 %- Objective: 0.09452\n",
      "Sparsity: 0.182 %- Objective: 0.09452\n",
      "Sparsity: 0.182 %- Objective: 0.09452\n",
      "Sparsity: 0.182 %- Objective: 0.09451\n",
      "Sparsity: 0.182 %- Objective: 0.09451\n",
      "Sparsity: 0.182 %- Objective: 0.09451\n",
      "Sparsity: 0.182 %- Objective: 0.09450\n",
      "Sparsity: 0.182 %- Objective: 0.09448\n",
      "Sparsity: 0.182 %- Objective: 0.09433\n",
      "Sparsity: 0.168 %- Objective: 0.09384\n",
      "Sparsity: 0.168 %- Objective: 0.09384\n",
      "Sparsity: 0.168 %- Objective: 0.09384\n",
      "Sparsity: 0.168 %- Objective: 0.09384\n",
      "Sparsity: 0.168 %- Objective: 0.09384\n"
     ]
    }
   ],
   "source": [
    "if True:  # g(x) = sqrt(abs(x))\n",
    "    g = lambda w: np.sqrt(np.abs(w))\n",
    "    gprime = lambda w: 1. / (2. * np.sqrt(np.abs(w)) + np.finfo(float).eps)\n",
    "else: # g(x) = log(eps + abs(x))\n",
    "    eps = 0.01\n",
    "    g = lambda w: np.log(eps + np.abs(w))\n",
    "    gprime = lambda w: 1. / (eps + np.abs(w))\n",
    "\n",
    "n_samples, n_features = X.shape\n",
    "p_obj = lambda w: 1. / (2 * n_samples) * np.sum((y - np.dot(X, w)) ** 2) \\\n",
    "                  + alpha * np.sum(g(w))\n",
    "\n",
    "weights = np.ones(n_features)\n",
    "n_lasso_iterations = 20\n",
    "alpha = 0.001\n",
    "\n",
    "objective = []\n",
    "for k in range(n_lasso_iterations):\n",
    "    X_w = X / weights[np.newaxis, :]\n",
    "    clf = Lasso(alpha=alpha, fit_intercept=False)\n",
    "    clf.fit(X_w, y)\n",
    "    coef_ = clf.coef_ / weights\n",
    "    weights = gprime(coef_)\n",
    "    objective.append(p_obj(coef_))\n",
    "    print('Sparsity: %1.3f %%- Objective: %.5f' % (100. * np.mean(coef_ != 0.0), objective[-1]))"
   ]
  },
  {
   "cell_type": "code",
   "execution_count": 13,
   "metadata": {
    "collapsed": false
   },
   "outputs": [
    {
     "data": {
      "image/png": "[encoded data removed]",
      "text/plain": [
       "<matplotlib.figure.Figure at 0x22390006208>"
      ]
     },
     "metadata": {},
     "output_type": "display_data"
    }
   ],
   "source": [
    "plt.plot(objective)\n",
    "plt.xlabel('Iterations')\n",
    "plt.ylabel('Objective');"
   ]
  },
  {
   "cell_type": "code",
   "execution_count": null,
   "metadata": {
    "collapsed": true
   },
   "outputs": [],
   "source": []
  }
 ],
 "metadata": {
  "anaconda-cloud": {},
  "kernelspec": {
   "display_name": "Python [default]",
   "language": "python",
   "name": "python3"
  },
  "language_info": {
   "codemirror_mode": {
    "name": "ipython",
    "version": 3
   },
   "file_extension": ".py",
   "mimetype": "text/x-python",
   "name": "python",
   "nbconvert_exporter": "python",
   "pygments_lexer": "ipython3",
   "version": "3.5.2"
  }
 },
 "nbformat": 4,
 "nbformat_minor": 1
}
