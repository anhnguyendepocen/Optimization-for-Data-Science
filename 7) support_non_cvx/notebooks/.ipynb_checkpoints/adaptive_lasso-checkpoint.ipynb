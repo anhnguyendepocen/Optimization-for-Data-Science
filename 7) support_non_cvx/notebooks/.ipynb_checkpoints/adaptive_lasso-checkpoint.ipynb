{
 "cells": [
  {
   "cell_type": "markdown",
   "metadata": {},
   "source": [
    "# Example of adaptive Lasso\n",
    "\n",
    "Author: Alexandre Gramfort\n",
    "\n",
    "Adaptive lasso consists in computing many Lasso with feature\n",
    "reweighting. It's also known as iterated L1."
   ]
  },
  {
   "cell_type": "code",
   "execution_count": null,
   "metadata": {
    "collapsed": true
   },
   "outputs": [],
   "source": [
    "import matplotlib.pyplot as plt\n",
    "%matplotlib inline"
   ]
  },
  {
   "cell_type": "code",
   "execution_count": null,
   "metadata": {
    "collapsed": false
   },
   "outputs": [],
   "source": [
    "import numpy as np\n",
    "from sklearn.datasets import fetch_mldata\n",
    "from sklearn.linear_model import Lasso\n",
    "\n",
    "data = fetch_mldata(\"leukemia\")\n",
    "X = data.data.astype(float)\n",
    "y = data.target.astype(float)\n",
    "X /= np.sum(X ** 2, axis=0)  # scale features"
   ]
  },
  {
   "cell_type": "code",
   "execution_count": null,
   "metadata": {
    "collapsed": false
   },
   "outputs": [],
   "source": [
    "if True:  # g(x) = sqrt(abs(x))\n",
    "    g = lambda w: np.sqrt(np.abs(w))\n",
    "    gprime = lambda w: 1. / (2. * np.sqrt(np.abs(w)) + np.finfo(float).eps)\n",
    "else: # g(x) = log(eps + abs(x))\n",
    "    eps = 0.01\n",
    "    g = lambda w: np.log(eps + np.abs(w))\n",
    "    gprime = lambda w: 1. / (eps + np.abs(w))\n",
    "\n",
    "n_samples, n_features = X.shape\n",
    "p_obj = lambda w: 1. / (2 * n_samples) * np.sum((y - np.dot(X, w)) ** 2) \\\n",
    "                  + alpha * np.sum(g(w))\n",
    "\n",
    "weights = np.ones(n_features)\n",
    "n_lasso_iterations = 10\n",
    "alpha = 0.001\n",
    "\n",
    "objective = []\n",
    "for k in range(n_lasso_iterations):\n",
    "    X_w = X / weights[np.newaxis, :]\n",
    "    clf = Lasso(alpha=alpha, fit_intercept=False)\n",
    "    clf.fit(X_w, y)\n",
    "    coef_ = clf.coef_ / weights\n",
    "    weights = gprime(coef_)\n",
    "    objective.append(p_obj(coef_))\n",
    "    print('Sparsity: %1.3f %%- Objective: %.5f' % (100. * np.mean(coef_ != 0.0), objective[-1]))"
   ]
  },
  {
   "cell_type": "code",
   "execution_count": null,
   "metadata": {
    "collapsed": false
   },
   "outputs": [],
   "source": [
    "plt.plot(objective)\n",
    "plt.xlabel('Iterations')\n",
    "plt.ylabel('Objective');"
   ]
  }
 ],
 "metadata": {
  "kernelspec": {
   "display_name": "Python 3",
   "language": "python",
   "name": "python3"
  },
  "language_info": {
   "codemirror_mode": {
    "name": "ipython",
    "version": 3
   },
   "file_extension": ".py",
   "mimetype": "text/x-python",
   "name": "python",
   "nbconvert_exporter": "python",
   "pygments_lexer": "ipython3",
   "version": "3.5.2"
  }
 },
 "nbformat": 4,
 "nbformat_minor": 1
}
