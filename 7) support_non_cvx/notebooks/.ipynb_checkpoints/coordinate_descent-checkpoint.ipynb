{
 "cells": [
  {
   "cell_type": "markdown",
   "metadata": {},
   "source": [
    "# Coordinate descent for least squares\n",
    "\n",
    "Author: Alexandre Gramfort"
   ]
  },
  {
   "cell_type": "code",
   "execution_count": 1,
   "metadata": {
    "collapsed": false
   },
   "outputs": [],
   "source": [
    "%matplotlib inline\n",
    "import numpy as np\n",
    "import matplotlib.pyplot as plt\n",
    "from scipy import linalg"
   ]
  },
  {
   "cell_type": "markdown",
   "metadata": {},
   "source": [
    "## Generate simulated data\n",
    "\n",
    "$y = xw+b+noise$"
   ]
  },
  {
   "cell_type": "code",
   "execution_count": 2,
   "metadata": {
    "collapsed": false
   },
   "outputs": [],
   "source": [
    "np.random.seed(0)\n",
    "n_samples, n_features = 300, 100\n",
    "A = np.random.randn(n_samples, n_features)\n",
    "x = np.random.randn(n_features)\n",
    "y = np.dot(A, x)\n",
    "y += 0.3 * np.random.randn(n_samples)"
   ]
  },
  {
   "cell_type": "markdown",
   "metadata": {},
   "source": [
    "## Option 1 : \n",
    "\n",
    "$\\min_w \\frac{1}{2} \\|y - Ax\\|^2$\n",
    "\n",
    "solved with `linalg.solve`"
   ]
  },
  {
   "cell_type": "code",
   "execution_count": 3,
   "metadata": {
    "collapsed": false,
    "scrolled": true
   },
   "outputs": [],
   "source": [
    "x_solve = linalg.solve(np.dot(A.T, A), np.dot(A.T, y))"
   ]
  },
  {
   "cell_type": "code",
   "execution_count": 4,
   "metadata": {
    "collapsed": false
   },
   "outputs": [
    {
     "data": {
      "image/png": "[encoded data removed]",
      "text/plain": [
       "<matplotlib.figure.Figure at 0x10ca751d0>"
      ]
     },
     "metadata": {},
     "output_type": "display_data"
    }
   ],
   "source": [
    "plt.scatter(x, x_solve);"
   ]
  },
  {
   "cell_type": "markdown",
   "metadata": {},
   "source": [
    "## Option 2: gradient descent"
   ]
  },
  {
   "cell_type": "code",
   "execution_count": 5,
   "metadata": {
    "collapsed": false
   },
   "outputs": [
    {
     "name": "stderr",
     "output_type": "stream",
     "text": [
      "-c:18: RuntimeWarning: divide by zero encountered in log10\n",
      "-c:18: RuntimeWarning: invalid value encountered in log10\n"
     ]
    },
    {
     "data": {
      "text/plain": [
       "<matplotlib.text.Text at 0x10f7f6550>"
      ]
     },
     "execution_count": 5,
     "metadata": {},
     "output_type": "execute_result"
    },
    {
     "data": {
      "image/png": "[encoded data removed]",
      "text/plain": [
       "<matplotlib.figure.Figure at 0x1063f7790>"
      ]
     },
     "metadata": {},
     "output_type": "display_data"
    }
   ],
   "source": [
    "def gradient(x):\n",
    "    return np.dot(A.T, np.dot(A, x) - y)\n",
    "\n",
    "def objective(x):\n",
    "    return linalg.norm(np.dot(A, x) - y) ** 2\n",
    "\n",
    "gram = np.dot(A.T, A)\n",
    "L = linalg.norm(gram, ord=2)\n",
    "\n",
    "n_iter = 300\n",
    "\n",
    "x_hat = np.zeros_like(x)\n",
    "objs = list()\n",
    "for k in range(n_iter):\n",
    "    x_hat -= 1. / L * gradient(x_hat)\n",
    "    objs.append(objective(x_hat))\n",
    "\n",
    "plt.plot(np.log10(np.array(objs) - objective(x_solve)))\n",
    "plt.xlabel('iteration')\n",
    "plt.ylabel('objective')"
   ]
  },
  {
   "cell_type": "markdown",
   "metadata": {},
   "source": [
    "## Option 3: cyclic coordinate descent"
   ]
  },
  {
   "cell_type": "code",
   "execution_count": 6,
   "metadata": {
    "collapsed": false
   },
   "outputs": [
    {
     "name": "stderr",
     "output_type": "stream",
     "text": [
      "-c:13: RuntimeWarning: divide by zero encountered in log10\n",
      "-c:13: RuntimeWarning: invalid value encountered in log10\n"
     ]
    },
    {
     "data": {
      "text/plain": [
       "<matplotlib.text.Text at 0x10fa1b3d0>"
      ]
     },
     "execution_count": 6,
     "metadata": {},
     "output_type": "execute_result"
    },
    {
     "data": {
      "image/png": "[encoded data removed]",
      "text/plain": [
       "<matplotlib.figure.Figure at 0x10f7f6f50>"
      ]
     },
     "metadata": {},
     "output_type": "display_data"
    }
   ],
   "source": [
    "Li = np.sum(A * A, axis=0)\n",
    "\n",
    "n_iter = 300 * n_features\n",
    "\n",
    "x_hat = np.zeros_like(x)\n",
    "objs = list()\n",
    "for k in range(n_iter):\n",
    "    i = k % n_features\n",
    "    x_hat[i] = np.dot(A[:, i].T, y - np.dot(A, x_hat) + x_hat[i] * A[:, i])\n",
    "    x_hat[i] /= np.dot(A[:, i], A[:, i])\n",
    "    objs.append(objective(x_hat))\n",
    "\n",
    "plt.plot(np.log10(np.array(objs) - objective(x_solve)))\n",
    "plt.xlabel('iteration')\n",
    "plt.ylabel('objective')"
   ]
  },
  {
   "cell_type": "markdown",
   "metadata": {},
   "source": [
    "### or written in a more generic manner:"
   ]
  },
  {
   "cell_type": "code",
   "execution_count": 7,
   "metadata": {
    "collapsed": false
   },
   "outputs": [
    {
     "name": "stderr",
     "output_type": "stream",
     "text": [
      "-c:15: RuntimeWarning: divide by zero encountered in log10\n",
      "-c:15: RuntimeWarning: invalid value encountered in log10\n"
     ]
    },
    {
     "data": {
      "text/plain": [
       "<matplotlib.text.Text at 0x10f745f10>"
      ]
     },
     "execution_count": 7,
     "metadata": {},
     "output_type": "execute_result"
    },
    {
     "data": {
      "image/png": "[encoded data removed]",
      "text/plain": [
       "<matplotlib.figure.Figure at 0x10f7dd0d0>"
      ]
     },
     "metadata": {},
     "output_type": "display_data"
    }
   ],
   "source": [
    "def gradient_i(x, i):\n",
    "    return np.dot(A[:, i].T, np.dot(A, x) - y)\n",
    "\n",
    "Li = np.sum(A * A, axis=0)\n",
    "\n",
    "n_iter = 300 * n_features\n",
    "\n",
    "x_hat = np.zeros_like(x)\n",
    "objs = list()\n",
    "for k in range(n_iter):\n",
    "    i = k % n_features\n",
    "    x_hat[i] -= 1. / Li[i] * gradient_i(x_hat, i)\n",
    "    objs.append(objective(x_hat))\n",
    "\n",
    "plt.plot(np.log10(np.array(objs) - objective(x_solve)))\n",
    "plt.xlabel('iteration')\n",
    "plt.ylabel('objective')"
   ]
  }
 ],
 "metadata": {
  "kernelspec": {
   "display_name": "Python 2",
   "language": "python",
   "name": "python2"
  },
  "language_info": {
   "codemirror_mode": {
    "name": "ipython",
    "version": 2
   },
   "file_extension": ".py",
   "mimetype": "text/x-python",
   "name": "python",
   "nbconvert_exporter": "python",
   "pygments_lexer": "ipython2",
   "version": "2.7.12"
  },
  "widgets": {
   "state": {},
   "version": "1.1.2"
  }
 },
 "nbformat": 4,
 "nbformat_minor": 0
}
