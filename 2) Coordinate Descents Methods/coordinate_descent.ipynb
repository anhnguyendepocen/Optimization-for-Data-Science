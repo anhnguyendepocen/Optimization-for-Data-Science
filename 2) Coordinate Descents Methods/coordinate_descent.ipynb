{
 "cells": [
  {
   "cell_type": "markdown",
   "metadata": {},
   "source": [
    "# Coordinate descent for least squares\n",
    "\n",
    "Author: Alexandre Gramfort"
   ]
  },
  {
   "cell_type": "code",
   "execution_count": 11,
   "metadata": {
    "collapsed": false
   },
   "outputs": [],
   "source": [
    "%matplotlib inline\n",
    "import numpy as np\n",
    "import matplotlib.pyplot as plt\n",
    "from scipy import linalg\n",
    "import time"
   ]
  },
  {
   "cell_type": "markdown",
   "metadata": {},
   "source": [
    "## Generate simulated data\n",
    "\n",
    "$y = xw+b+noise$"
   ]
  },
  {
   "cell_type": "code",
   "execution_count": 2,
   "metadata": {
    "collapsed": false
   },
   "outputs": [],
   "source": [
    "np.random.seed(0)\n",
    "n_samples, n_features = 300, 100\n",
    "A = np.random.randn(n_samples, n_features)\n",
    "x = np.random.randn(n_features)\n",
    "y = np.dot(A, x)\n",
    "y += 0.3 * np.random.randn(n_samples)"
   ]
  },
  {
   "cell_type": "code",
   "execution_count": 3,
   "metadata": {
    "collapsed": false
   },
   "outputs": [
    {
     "data": {
      "text/plain": [
       "2.3138236130400816"
      ]
     },
     "execution_count": 3,
     "metadata": {},
     "output_type": "execute_result"
    }
   ],
   "source": [
    "x.max()"
   ]
  },
  {
   "cell_type": "markdown",
   "metadata": {},
   "source": [
    "## Option 1 : \n",
    "\n",
    "$\\min_w \\frac{1}{2} \\|y - Ax\\|^2$\n",
    "\n",
    "solved with `linalg.solve`"
   ]
  },
  {
   "cell_type": "code",
   "execution_count": 4,
   "metadata": {
    "collapsed": false,
    "scrolled": true
   },
   "outputs": [],
   "source": [
    "x_solve = linalg.solve(np.dot(A.T, A), np.dot(A.T, y))"
   ]
  },
  {
   "cell_type": "code",
   "execution_count": 5,
   "metadata": {
    "collapsed": false
   },
   "outputs": [
    {
     "data": {
      "image/png": "[encoded data removed]",
      "text/plain": [
       "<matplotlib.figure.Figure at 0x290930bc2b0>"
      ]
     },
     "metadata": {},
     "output_type": "display_data"
    }
   ],
   "source": [
    "plt.scatter(x, x_solve);"
   ]
  },
  {
   "cell_type": "code",
   "execution_count": 6,
   "metadata": {
    "collapsed": false
   },
   "outputs": [
    {
     "data": {
      "text/plain": [
       "0.0013934559960082035"
      ]
     },
     "execution_count": 6,
     "metadata": {},
     "output_type": "execute_result"
    }
   ],
   "source": [
    "((x - x_solve) / x).mean()"
   ]
  },
  {
   "cell_type": "markdown",
   "metadata": {},
   "source": [
    "## Option 2: gradient descent"
   ]
  },
  {
   "cell_type": "code",
   "execution_count": 12,
   "metadata": {
    "collapsed": false
   },
   "outputs": [
    {
     "name": "stdout",
     "output_type": "stream",
     "text": [
      "0.0651557445526123\n"
     ]
    },
    {
     "name": "stderr",
     "output_type": "stream",
     "text": [
      "C:\\Users\\Peter martigny\\Anaconda3\\lib\\site-packages\\ipykernel\\__main__.py:18: RuntimeWarning: divide by zero encountered in log10\n",
      "C:\\Users\\Peter martigny\\Anaconda3\\lib\\site-packages\\ipykernel\\__main__.py:18: RuntimeWarning: invalid value encountered in log10\n"
     ]
    },
    {
     "data": {
      "image/png": "[encoded data removed]",
      "text/plain": [
       "<matplotlib.figure.Figure at 0x2909303da58>"
      ]
     },
     "metadata": {},
     "output_type": "display_data"
    }
   ],
   "source": [
    "def gradient(x):\n",
    "    return np.dot(A.T, np.dot(A, x) - y)\n",
    "\n",
    "def objective(x):\n",
    "    return linalg.norm(np.dot(A, x) - y) ** 2\n",
    "start = time.time()\n",
    "gram = np.dot(A.T, A)\n",
    "L = linalg.norm(gram, ord=2)\n",
    "\n",
    "n_iter = 500\n",
    "\n",
    "x_hat = np.zeros_like(x)\n",
    "objs = list()\n",
    "for k in range(n_iter):\n",
    "    x_hat -= 1. / L * gradient(x_hat)\n",
    "    objs.append(objective(x_hat))\n",
    "\n",
    "plt.plot(np.log10(np.array(objs) - objective(x_solve)))\n",
    "plt.xlabel('iteration')\n",
    "plt.ylabel('objective')\n",
    "plt.ylim(-20, 4)\n",
    "print(time.time() - start)"
   ]
  },
  {
   "cell_type": "markdown",
   "metadata": {},
   "source": [
    "## Option 3: cyclic coordinate descent"
   ]
  },
  {
   "cell_type": "code",
   "execution_count": 8,
   "metadata": {
    "collapsed": false
   },
   "outputs": [
    {
     "data": {
      "text/plain": [
       "array([ 0.,  0.,  0.,  0.,  0.,  0.,  0.,  0.,  0.,  0.,  0.,  0.,  0.,\n",
       "        0.,  0.,  0.,  0.,  0.,  0.,  0.,  0.,  0.,  0.,  0.,  0.,  0.,\n",
       "        0.,  0.,  0.,  0.,  0.,  0.,  0.,  0.,  0.,  0.,  0.,  0.,  0.,\n",
       "        0.,  0.,  0.,  0.,  0.,  0.,  0.,  0.,  0.,  0.,  0.,  0.,  0.,\n",
       "        0.,  0.,  0.,  0.,  0.,  0.,  0.,  0.,  0.,  0.,  0.,  0.,  0.,\n",
       "        0.,  0.,  0.,  0.,  0.,  0.,  0.,  0.,  0.,  0.,  0.,  0.,  0.,\n",
       "        0.,  0.,  0.,  0.,  0.,  0.,  0.,  0.,  0.,  0.,  0.,  0.,  0.,\n",
       "        0.,  0.,  0.,  0.,  0.,  0.,  0.,  0.,  0.])"
      ]
     },
     "execution_count": 8,
     "metadata": {},
     "output_type": "execute_result"
    }
   ],
   "source": [
    "np.zeros_like(x)"
   ]
  },
  {
   "cell_type": "code",
   "execution_count": 15,
   "metadata": {
    "collapsed": false
   },
   "outputs": [
    {
     "name": "stdout",
     "output_type": "stream",
     "text": [
      "1.290412187576294\n"
     ]
    },
    {
     "name": "stderr",
     "output_type": "stream",
     "text": [
      "C:\\Users\\Peter martigny\\Anaconda3\\lib\\site-packages\\ipykernel\\__main__.py:14: RuntimeWarning: divide by zero encountered in log10\n",
      "C:\\Users\\Peter martigny\\Anaconda3\\lib\\site-packages\\ipykernel\\__main__.py:14: RuntimeWarning: invalid value encountered in log10\n"
     ]
    },
    {
     "data": {
      "image/png": "[encoded data removed]",
      "text/plain": [
       "<matplotlib.figure.Figure at 0x29099430160>"
      ]
     },
     "metadata": {},
     "output_type": "display_data"
    }
   ],
   "source": [
    "start = time.time()\n",
    "Li = np.sum(A * A, axis=0)\n",
    "\n",
    "n_iter = 300 * n_features\n",
    "\n",
    "x_hat = np.zeros_like(x)\n",
    "objs = list()\n",
    "for k in range(n_iter):\n",
    "    i = k % n_features\n",
    "    x_hat[i] = np.dot(A[:, i].T, y - np.dot(A, x_hat) + x_hat[i] * A[:, i])\n",
    "    x_hat[i] /= np.dot(A[:, i], A[:, i])\n",
    "    objs.append(objective(x_hat))\n",
    "\n",
    "plt.plot(np.log10(np.array(objs) - objective(x_solve)))\n",
    "plt.xlabel('iteration')\n",
    "plt.ylabel('objective')\n",
    "plt.xlim(0, 5000)\n",
    "print(time.time() - start)"
   ]
  },
  {
   "cell_type": "markdown",
   "metadata": {},
   "source": [
    "### or written in a more generic manner:"
   ]
  },
  {
   "cell_type": "code",
   "execution_count": 16,
   "metadata": {
    "collapsed": false
   },
   "outputs": [
    {
     "name": "stdout",
     "output_type": "stream",
     "text": [
      "1.110954999923706\n"
     ]
    },
    {
     "name": "stderr",
     "output_type": "stream",
     "text": [
      "C:\\Users\\Peter martigny\\Anaconda3\\lib\\site-packages\\ipykernel\\__main__.py:16: RuntimeWarning: divide by zero encountered in log10\n",
      "C:\\Users\\Peter martigny\\Anaconda3\\lib\\site-packages\\ipykernel\\__main__.py:16: RuntimeWarning: invalid value encountered in log10\n"
     ]
    },
    {
     "data": {
      "image/png": "[encoded data removed]",
      "text/plain": [
       "<matplotlib.figure.Figure at 0x290994cc4a8>"
      ]
     },
     "metadata": {},
     "output_type": "display_data"
    }
   ],
   "source": [
    "def gradient_i(x, i):\n",
    "    return np.dot(A[:, i].T, np.dot(A, x) - y)\n",
    "\n",
    "start = time.time()\n",
    "Li = np.sum(A * A, axis=0)\n",
    "\n",
    "n_iter = 300 * n_features\n",
    "\n",
    "x_hat = np.zeros_like(x)\n",
    "objs = list()\n",
    "for k in range(n_iter):\n",
    "    i = k % n_features\n",
    "    x_hat[i] -= 1. / Li[i] * gradient_i(x_hat, i)\n",
    "    objs.append(objective(x_hat))\n",
    "\n",
    "plt.plot(np.log10(np.array(objs) - objective(x_solve)))\n",
    "plt.xlabel('iteration')\n",
    "plt.ylabel('objective')\n",
    "print(time.time() - start)"
   ]
  },
  {
   "cell_type": "code",
   "execution_count": null,
   "metadata": {
    "collapsed": true
   },
   "outputs": [],
   "source": []
  },
  {
   "cell_type": "code",
   "execution_count": null,
   "metadata": {
    "collapsed": true
   },
   "outputs": [],
   "source": []
  }
 ],
 "metadata": {
  "kernelspec": {
   "display_name": "Python [Root]",
   "language": "python",
   "name": "Python [Root]"
  },
  "language_info": {
   "codemirror_mode": {
    "name": "ipython",
    "version": 3
   },
   "file_extension": ".py",
   "mimetype": "text/x-python",
   "name": "python",
   "nbconvert_exporter": "python",
   "pygments_lexer": "ipython3",
   "version": "3.5.2"
  },
  "widgets": {
   "state": {},
   "version": "1.1.2"
  }
 },
 "nbformat": 4,
 "nbformat_minor": 0
}
